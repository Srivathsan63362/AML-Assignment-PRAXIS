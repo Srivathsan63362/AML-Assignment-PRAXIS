{
 "cells": [
  {
   "cell_type": "markdown",
   "metadata": {
    "id": "zFobX-489UqY"
   },
   "source": [
    "# BootStraping for Computing Variance"
   ]
  },
  {
   "cell_type": "markdown",
   "metadata": {
    "id": "gZvsXALAnKOf"
   },
   "source": [
    "\n",
    "# Experiment 6\n",
    "### i) Consider Atrition Data In the data Monthly_Income is the Population (P)\n",
    "### ii) Calculate the Population Mean and Variance  \n",
    "### iii) Generate Random Sample(S) of size 200 and Calculate X_bar and Calculate Var(X_bar) using the formula (sigma^2/n)\n",
    "### iv) Generate 10000, Random Sample (s) of Size 200, with replacements from population (P) and record the Sample Mean of each sample and finally calculate the varaiance of all the sample means, Check if this result matches with the result in iii.\n",
    "### v) Generate 10000 Bootstrap sample of size 200, from the sample collected in (iii) Record the sample mean of each bootstrap sample and finally calculate the variance of all these sample means. check if the result matches with (iii) and (iv) \n"
   ]
  },
  {
   "cell_type": "code",
   "execution_count": 1,
   "metadata": {
    "executionInfo": {
     "elapsed": 1069,
     "status": "ok",
     "timestamp": 1654535053474,
     "user": {
      "displayName": "Srivathsan B",
      "userId": "15069704459336375084"
     },
     "user_tz": -330
    },
    "id": "G0cCGPm6_iMW"
   },
   "outputs": [],
   "source": [
    "# Importing the Dependencies\n",
    "import numpy as np\n",
    "import pandas as pd\n",
    "import random\n",
    "import matplotlib.pyplot as plt"
   ]
  },
  {
   "cell_type": "code",
   "execution_count": 2,
   "metadata": {
    "colab": {
     "base_uri": "https://localhost:8080/"
    },
    "executionInfo": {
     "elapsed": 22989,
     "status": "ok",
     "timestamp": 1654535118664,
     "user": {
      "displayName": "Srivathsan B",
      "userId": "15069704459336375084"
     },
     "user_tz": -330
    },
    "id": "YszlbtElFzdM",
    "outputId": "079459e0-c4a4-4307-e10b-b35166e1ed0c"
   },
   "outputs": [
    {
     "ename": "ModuleNotFoundError",
     "evalue": "No module named 'google'",
     "output_type": "error",
     "traceback": [
      "\u001b[1;31m---------------------------------------------------------------------------\u001b[0m",
      "\u001b[1;31mModuleNotFoundError\u001b[0m                       Traceback (most recent call last)",
      "\u001b[1;32m<ipython-input-2-7c502f6a301f>\u001b[0m in \u001b[0;36m<module>\u001b[1;34m\u001b[0m\n\u001b[0;32m      1\u001b[0m \u001b[1;31m# mounting the drive\u001b[0m\u001b[1;33m\u001b[0m\u001b[1;33m\u001b[0m\u001b[1;33m\u001b[0m\u001b[0m\n\u001b[0;32m      2\u001b[0m \u001b[1;33m\u001b[0m\u001b[0m\n\u001b[1;32m----> 3\u001b[1;33m \u001b[1;32mfrom\u001b[0m \u001b[0mgoogle\u001b[0m\u001b[1;33m.\u001b[0m\u001b[0mcolab\u001b[0m \u001b[1;32mimport\u001b[0m \u001b[0mdrive\u001b[0m\u001b[1;33m\u001b[0m\u001b[1;33m\u001b[0m\u001b[0m\n\u001b[0m\u001b[0;32m      4\u001b[0m \u001b[0mdrive\u001b[0m\u001b[1;33m.\u001b[0m\u001b[0mmount\u001b[0m\u001b[1;33m(\u001b[0m\u001b[1;34m'/content/drive'\u001b[0m\u001b[1;33m)\u001b[0m\u001b[1;33m\u001b[0m\u001b[1;33m\u001b[0m\u001b[0m\n",
      "\u001b[1;31mModuleNotFoundError\u001b[0m: No module named 'google'"
     ]
    }
   ],
   "source": [
    "# mounting the drive \n",
    "\n",
    "from google.colab import drive\n",
    "drive.mount('/content/drive')"
   ]
  },
  {
   "cell_type": "code",
   "execution_count": 3,
   "metadata": {
    "colab": {
     "base_uri": "https://localhost:8080/",
     "height": 340
    },
    "executionInfo": {
     "elapsed": 908,
     "status": "ok",
     "timestamp": 1654535187536,
     "user": {
      "displayName": "Srivathsan B",
      "userId": "15069704459336375084"
     },
     "user_tz": -330
    },
    "id": "VvK2GnU4-wjd",
    "outputId": "c45e7737-1e2f-40e1-bb5b-93a9c1f7f740"
   },
   "outputs": [
    {
     "ename": "FileNotFoundError",
     "evalue": "[Errno 2] File /content/drive/MyDrive/AML /attrition.csv does not exist: '/content/drive/MyDrive/AML /attrition.csv'",
     "output_type": "error",
     "traceback": [
      "\u001b[1;31m---------------------------------------------------------------------------\u001b[0m",
      "\u001b[1;31mFileNotFoundError\u001b[0m                         Traceback (most recent call last)",
      "\u001b[1;32m<ipython-input-3-051cb004b31c>\u001b[0m in \u001b[0;36m<module>\u001b[1;34m\u001b[0m\n\u001b[0;32m      1\u001b[0m \u001b[1;31m# Reading the data from the google drive and reading as pandas dataset.\u001b[0m\u001b[1;33m\u001b[0m\u001b[1;33m\u001b[0m\u001b[1;33m\u001b[0m\u001b[0m\n\u001b[0;32m      2\u001b[0m \u001b[1;33m\u001b[0m\u001b[0m\n\u001b[1;32m----> 3\u001b[1;33m \u001b[0mdf\u001b[0m \u001b[1;33m=\u001b[0m \u001b[0mpd\u001b[0m\u001b[1;33m.\u001b[0m\u001b[0mread_csv\u001b[0m\u001b[1;33m(\u001b[0m\u001b[1;34m'/content/drive/MyDrive/AML /attrition.csv'\u001b[0m\u001b[1;33m)\u001b[0m\u001b[1;33m\u001b[0m\u001b[1;33m\u001b[0m\u001b[0m\n\u001b[0m\u001b[0;32m      4\u001b[0m \u001b[0mdf\u001b[0m\u001b[1;33m.\u001b[0m\u001b[0mhead\u001b[0m\u001b[1;33m(\u001b[0m\u001b[1;33m)\u001b[0m \u001b[1;31m# Shows the first 5 rows of the dataset variable name df\u001b[0m\u001b[1;33m\u001b[0m\u001b[1;33m\u001b[0m\u001b[0m\n",
      "\u001b[1;32m~\\anaconda3\\lib\\site-packages\\pandas\\io\\parsers.py\u001b[0m in \u001b[0;36mparser_f\u001b[1;34m(filepath_or_buffer, sep, delimiter, header, names, index_col, usecols, squeeze, prefix, mangle_dupe_cols, dtype, engine, converters, true_values, false_values, skipinitialspace, skiprows, skipfooter, nrows, na_values, keep_default_na, na_filter, verbose, skip_blank_lines, parse_dates, infer_datetime_format, keep_date_col, date_parser, dayfirst, cache_dates, iterator, chunksize, compression, thousands, decimal, lineterminator, quotechar, quoting, doublequote, escapechar, comment, encoding, dialect, error_bad_lines, warn_bad_lines, delim_whitespace, low_memory, memory_map, float_precision)\u001b[0m\n\u001b[0;32m    674\u001b[0m         )\n\u001b[0;32m    675\u001b[0m \u001b[1;33m\u001b[0m\u001b[0m\n\u001b[1;32m--> 676\u001b[1;33m         \u001b[1;32mreturn\u001b[0m \u001b[0m_read\u001b[0m\u001b[1;33m(\u001b[0m\u001b[0mfilepath_or_buffer\u001b[0m\u001b[1;33m,\u001b[0m \u001b[0mkwds\u001b[0m\u001b[1;33m)\u001b[0m\u001b[1;33m\u001b[0m\u001b[1;33m\u001b[0m\u001b[0m\n\u001b[0m\u001b[0;32m    677\u001b[0m \u001b[1;33m\u001b[0m\u001b[0m\n\u001b[0;32m    678\u001b[0m     \u001b[0mparser_f\u001b[0m\u001b[1;33m.\u001b[0m\u001b[0m__name__\u001b[0m \u001b[1;33m=\u001b[0m \u001b[0mname\u001b[0m\u001b[1;33m\u001b[0m\u001b[1;33m\u001b[0m\u001b[0m\n",
      "\u001b[1;32m~\\anaconda3\\lib\\site-packages\\pandas\\io\\parsers.py\u001b[0m in \u001b[0;36m_read\u001b[1;34m(filepath_or_buffer, kwds)\u001b[0m\n\u001b[0;32m    446\u001b[0m \u001b[1;33m\u001b[0m\u001b[0m\n\u001b[0;32m    447\u001b[0m     \u001b[1;31m# Create the parser.\u001b[0m\u001b[1;33m\u001b[0m\u001b[1;33m\u001b[0m\u001b[1;33m\u001b[0m\u001b[0m\n\u001b[1;32m--> 448\u001b[1;33m     \u001b[0mparser\u001b[0m \u001b[1;33m=\u001b[0m \u001b[0mTextFileReader\u001b[0m\u001b[1;33m(\u001b[0m\u001b[0mfp_or_buf\u001b[0m\u001b[1;33m,\u001b[0m \u001b[1;33m**\u001b[0m\u001b[0mkwds\u001b[0m\u001b[1;33m)\u001b[0m\u001b[1;33m\u001b[0m\u001b[1;33m\u001b[0m\u001b[0m\n\u001b[0m\u001b[0;32m    449\u001b[0m \u001b[1;33m\u001b[0m\u001b[0m\n\u001b[0;32m    450\u001b[0m     \u001b[1;32mif\u001b[0m \u001b[0mchunksize\u001b[0m \u001b[1;32mor\u001b[0m \u001b[0miterator\u001b[0m\u001b[1;33m:\u001b[0m\u001b[1;33m\u001b[0m\u001b[1;33m\u001b[0m\u001b[0m\n",
      "\u001b[1;32m~\\anaconda3\\lib\\site-packages\\pandas\\io\\parsers.py\u001b[0m in \u001b[0;36m__init__\u001b[1;34m(self, f, engine, **kwds)\u001b[0m\n\u001b[0;32m    878\u001b[0m             \u001b[0mself\u001b[0m\u001b[1;33m.\u001b[0m\u001b[0moptions\u001b[0m\u001b[1;33m[\u001b[0m\u001b[1;34m\"has_index_names\"\u001b[0m\u001b[1;33m]\u001b[0m \u001b[1;33m=\u001b[0m \u001b[0mkwds\u001b[0m\u001b[1;33m[\u001b[0m\u001b[1;34m\"has_index_names\"\u001b[0m\u001b[1;33m]\u001b[0m\u001b[1;33m\u001b[0m\u001b[1;33m\u001b[0m\u001b[0m\n\u001b[0;32m    879\u001b[0m \u001b[1;33m\u001b[0m\u001b[0m\n\u001b[1;32m--> 880\u001b[1;33m         \u001b[0mself\u001b[0m\u001b[1;33m.\u001b[0m\u001b[0m_make_engine\u001b[0m\u001b[1;33m(\u001b[0m\u001b[0mself\u001b[0m\u001b[1;33m.\u001b[0m\u001b[0mengine\u001b[0m\u001b[1;33m)\u001b[0m\u001b[1;33m\u001b[0m\u001b[1;33m\u001b[0m\u001b[0m\n\u001b[0m\u001b[0;32m    881\u001b[0m \u001b[1;33m\u001b[0m\u001b[0m\n\u001b[0;32m    882\u001b[0m     \u001b[1;32mdef\u001b[0m \u001b[0mclose\u001b[0m\u001b[1;33m(\u001b[0m\u001b[0mself\u001b[0m\u001b[1;33m)\u001b[0m\u001b[1;33m:\u001b[0m\u001b[1;33m\u001b[0m\u001b[1;33m\u001b[0m\u001b[0m\n",
      "\u001b[1;32m~\\anaconda3\\lib\\site-packages\\pandas\\io\\parsers.py\u001b[0m in \u001b[0;36m_make_engine\u001b[1;34m(self, engine)\u001b[0m\n\u001b[0;32m   1112\u001b[0m     \u001b[1;32mdef\u001b[0m \u001b[0m_make_engine\u001b[0m\u001b[1;33m(\u001b[0m\u001b[0mself\u001b[0m\u001b[1;33m,\u001b[0m \u001b[0mengine\u001b[0m\u001b[1;33m=\u001b[0m\u001b[1;34m\"c\"\u001b[0m\u001b[1;33m)\u001b[0m\u001b[1;33m:\u001b[0m\u001b[1;33m\u001b[0m\u001b[1;33m\u001b[0m\u001b[0m\n\u001b[0;32m   1113\u001b[0m         \u001b[1;32mif\u001b[0m \u001b[0mengine\u001b[0m \u001b[1;33m==\u001b[0m \u001b[1;34m\"c\"\u001b[0m\u001b[1;33m:\u001b[0m\u001b[1;33m\u001b[0m\u001b[1;33m\u001b[0m\u001b[0m\n\u001b[1;32m-> 1114\u001b[1;33m             \u001b[0mself\u001b[0m\u001b[1;33m.\u001b[0m\u001b[0m_engine\u001b[0m \u001b[1;33m=\u001b[0m \u001b[0mCParserWrapper\u001b[0m\u001b[1;33m(\u001b[0m\u001b[0mself\u001b[0m\u001b[1;33m.\u001b[0m\u001b[0mf\u001b[0m\u001b[1;33m,\u001b[0m \u001b[1;33m**\u001b[0m\u001b[0mself\u001b[0m\u001b[1;33m.\u001b[0m\u001b[0moptions\u001b[0m\u001b[1;33m)\u001b[0m\u001b[1;33m\u001b[0m\u001b[1;33m\u001b[0m\u001b[0m\n\u001b[0m\u001b[0;32m   1115\u001b[0m         \u001b[1;32melse\u001b[0m\u001b[1;33m:\u001b[0m\u001b[1;33m\u001b[0m\u001b[1;33m\u001b[0m\u001b[0m\n\u001b[0;32m   1116\u001b[0m             \u001b[1;32mif\u001b[0m \u001b[0mengine\u001b[0m \u001b[1;33m==\u001b[0m \u001b[1;34m\"python\"\u001b[0m\u001b[1;33m:\u001b[0m\u001b[1;33m\u001b[0m\u001b[1;33m\u001b[0m\u001b[0m\n",
      "\u001b[1;32m~\\anaconda3\\lib\\site-packages\\pandas\\io\\parsers.py\u001b[0m in \u001b[0;36m__init__\u001b[1;34m(self, src, **kwds)\u001b[0m\n\u001b[0;32m   1889\u001b[0m         \u001b[0mkwds\u001b[0m\u001b[1;33m[\u001b[0m\u001b[1;34m\"usecols\"\u001b[0m\u001b[1;33m]\u001b[0m \u001b[1;33m=\u001b[0m \u001b[0mself\u001b[0m\u001b[1;33m.\u001b[0m\u001b[0musecols\u001b[0m\u001b[1;33m\u001b[0m\u001b[1;33m\u001b[0m\u001b[0m\n\u001b[0;32m   1890\u001b[0m \u001b[1;33m\u001b[0m\u001b[0m\n\u001b[1;32m-> 1891\u001b[1;33m         \u001b[0mself\u001b[0m\u001b[1;33m.\u001b[0m\u001b[0m_reader\u001b[0m \u001b[1;33m=\u001b[0m \u001b[0mparsers\u001b[0m\u001b[1;33m.\u001b[0m\u001b[0mTextReader\u001b[0m\u001b[1;33m(\u001b[0m\u001b[0msrc\u001b[0m\u001b[1;33m,\u001b[0m \u001b[1;33m**\u001b[0m\u001b[0mkwds\u001b[0m\u001b[1;33m)\u001b[0m\u001b[1;33m\u001b[0m\u001b[1;33m\u001b[0m\u001b[0m\n\u001b[0m\u001b[0;32m   1892\u001b[0m         \u001b[0mself\u001b[0m\u001b[1;33m.\u001b[0m\u001b[0munnamed_cols\u001b[0m \u001b[1;33m=\u001b[0m \u001b[0mself\u001b[0m\u001b[1;33m.\u001b[0m\u001b[0m_reader\u001b[0m\u001b[1;33m.\u001b[0m\u001b[0munnamed_cols\u001b[0m\u001b[1;33m\u001b[0m\u001b[1;33m\u001b[0m\u001b[0m\n\u001b[0;32m   1893\u001b[0m \u001b[1;33m\u001b[0m\u001b[0m\n",
      "\u001b[1;32mpandas\\_libs\\parsers.pyx\u001b[0m in \u001b[0;36mpandas._libs.parsers.TextReader.__cinit__\u001b[1;34m()\u001b[0m\n",
      "\u001b[1;32mpandas\\_libs\\parsers.pyx\u001b[0m in \u001b[0;36mpandas._libs.parsers.TextReader._setup_parser_source\u001b[1;34m()\u001b[0m\n",
      "\u001b[1;31mFileNotFoundError\u001b[0m: [Errno 2] File /content/drive/MyDrive/AML /attrition.csv does not exist: '/content/drive/MyDrive/AML /attrition.csv'"
     ]
    }
   ],
   "source": [
    "# Reading the data from the google drive and reading as pandas dataset.\n",
    "\n",
    "df = pd.read_csv('/content/drive/MyDrive/AML /attrition.csv')\n",
    "df.head() # Shows the first 5 rows of the dataset variable name df"
   ]
  },
  {
   "cell_type": "markdown",
   "metadata": {
    "id": "4McPqJ5AFeYe"
   },
   "source": [
    "# i)"
   ]
  },
  {
   "cell_type": "code",
   "execution_count": null,
   "metadata": {
    "colab": {
     "base_uri": "https://localhost:8080/"
    },
    "executionInfo": {
     "elapsed": 320,
     "status": "ok",
     "timestamp": 1654535252316,
     "user": {
      "displayName": "Srivathsan B",
      "userId": "15069704459336375084"
     },
     "user_tz": -330
    },
    "id": "HzvUcoUA-0LE",
    "outputId": "615e0ac0-5e5b-4952-ce2c-f309d36e3aa6"
   },
   "outputs": [],
   "source": [
    "# Fixing the Population for the Experiment \n",
    "P = df.MonthlyIncome # The population of the experiment is fixed as Monthly Income from the data set.\n",
    "P.head()"
   ]
  },
  {
   "cell_type": "markdown",
   "metadata": {
    "id": "b_1-yWOGFmcG"
   },
   "source": [
    "# ii)"
   ]
  },
  {
   "cell_type": "code",
   "execution_count": null,
   "metadata": {
    "colab": {
     "base_uri": "https://localhost:8080/"
    },
    "executionInfo": {
     "elapsed": 14,
     "status": "ok",
     "timestamp": 1654535349701,
     "user": {
      "displayName": "Srivathsan B",
      "userId": "15069704459336375084"
     },
     "user_tz": -330
    },
    "id": "l4c-GnTJ_IPX",
    "outputId": "b05b1ca2-3e62-4060-c0b7-ea152962cfe8"
   },
   "outputs": [],
   "source": [
    "# Calculating the Population Mean and Variance \n",
    "print(\"The Population mean is : \", P.mean()) \n",
    "print(\"The Population variance is : \" , P.var())"
   ]
  },
  {
   "cell_type": "markdown",
   "metadata": {
    "id": "gix3MU9kFwby"
   },
   "source": [
    "# iii)"
   ]
  },
  {
   "cell_type": "code",
   "execution_count": null,
   "metadata": {
    "colab": {
     "base_uri": "https://localhost:8080/"
    },
    "executionInfo": {
     "elapsed": 309,
     "status": "ok",
     "timestamp": 1654535799725,
     "user": {
      "displayName": "Srivathsan B",
      "userId": "15069704459336375084"
     },
     "user_tz": -330
    },
    "id": "8yIiewwp_gKG",
    "outputId": "cc15fa7d-fc9d-4fda-84ff-32b722e28f7f"
   },
   "outputs": [],
   "source": [
    "# Generate Random Sample(S) of size 200 and Calculate X_bar and Calculate Var(X_bar) using the formula (sigma^2/n)\n",
    "s = random.choices(P , k = 200) # Choosing a random sample of 200 from Population P\n",
    "print(\"The sample  mean is x_bar : \", np.mean(s))\n",
    "print(\"The sample variance is x_bar using the formula  (sigma^2/n) : \" , P.var()/200)"
   ]
  },
  {
   "cell_type": "markdown",
   "metadata": {
    "id": "4M69canDF1ky"
   },
   "source": [
    "# iv)"
   ]
  },
  {
   "cell_type": "code",
   "execution_count": null,
   "metadata": {
    "colab": {
     "base_uri": "https://localhost:8080/"
    },
    "executionInfo": {
     "elapsed": 7248,
     "status": "ok",
     "timestamp": 1654537053591,
     "user": {
      "displayName": "Srivathsan B",
      "userId": "15069704459336375084"
     },
     "user_tz": -330
    },
    "id": "1TFmZRyNpDa7",
    "outputId": "49780ab4-e739-4ed6-a90c-9024be1bc6c7"
   },
   "outputs": [],
   "source": [
    "# Generate 10000, Random Sample (s) of Size 200, with replacements from population (P)\n",
    "sample = [] # creating an empty list \n",
    "for i in range(0,10001):\n",
    "    s = random.choices(P , k = 200)\n",
    "    avg = np.mean(s) # getting the average.\n",
    "    sample.append(avg) # appending the sample mean to the list sample\n",
    "print(\"The Sample mean recorded  : \", sample )\n",
    "print(\"The mean of all the sample means are : \", np.mean(sample))\n",
    "print(\"The variance of all the sample means are : \", np.var(sample))\n"
   ]
  },
  {
   "cell_type": "code",
   "execution_count": null,
   "metadata": {
    "colab": {
     "base_uri": "https://localhost:8080/"
    },
    "executionInfo": {
     "elapsed": 314,
     "status": "ok",
     "timestamp": 1654537060656,
     "user": {
      "displayName": "Srivathsan B",
      "userId": "15069704459336375084"
     },
     "user_tz": -330
    },
    "id": "5zEDYmfGu87n",
    "outputId": "9e705643-0797-4045-aff6-56d349ff368a"
   },
   "outputs": [],
   "source": [
    "# The Difference between the first and Second  : \n",
    "print('The difference between iii and iv in mean  ', np.mean(s) - np.mean(sample) )\n",
    "print('The difference between iii and iv in variance ', P.var()/200 - np.var(sample) )"
   ]
  },
  {
   "cell_type": "markdown",
   "metadata": {
    "id": "-tWlnvZaGERs"
   },
   "source": [
    "# v)"
   ]
  },
  {
   "cell_type": "code",
   "execution_count": null,
   "metadata": {
    "colab": {
     "base_uri": "https://localhost:8080/"
    },
    "executionInfo": {
     "elapsed": 1905,
     "status": "ok",
     "timestamp": 1654536880752,
     "user": {
      "displayName": "Srivathsan B",
      "userId": "15069704459336375084"
     },
     "user_tz": -330
    },
    "id": "q62peJzIDn7c",
    "outputId": "84aef6fa-b002-498f-b509-42763d4121b1"
   },
   "outputs": [],
   "source": [
    "# Generate 10000, Random Sample (s) of Size 200, with replacements from Bootstrap (s)\n",
    "BS_sample = [] # creating the empty list for Bootstraping sample mean to append\n",
    "for i in range(0,10001):\n",
    "    BS = random.choices(s , k = 200)\n",
    "    avg = np.mean(BS)\n",
    "    BS_sample.append(avg)  # appending the mean to BS_sample\n",
    "print(\"The Sample mean recorded  : \", BS_sample )\n",
    "print(\"The mean of all the sample means are : \", np.mean(BS_sample))\n",
    "print(\"The variance of all the sample means are : \", np.var(BS_sample))"
   ]
  },
  {
   "cell_type": "code",
   "execution_count": null,
   "metadata": {
    "colab": {
     "base_uri": "https://localhost:8080/"
    },
    "executionInfo": {
     "elapsed": 332,
     "status": "ok",
     "timestamp": 1654539002385,
     "user": {
      "displayName": "Srivathsan B",
      "userId": "15069704459336375084"
     },
     "user_tz": -330
    },
    "id": "GRu9qE3tFTeU",
    "outputId": "e315a1b3-7c50-4690-aee6-b534e586706b"
   },
   "outputs": [],
   "source": [
    "# Getting the difference to check the value similarity \n",
    "print(\"result of iii for mean is : \",  np.mean(s), \" / result of iv  for mean is : \", np.mean(sample), \" / result of v  for mean is : \", np.mean(BS_sample) ) \n",
    "print(\"result of iii for variance is : \",  P.var()/200, \" / result of iv  for variance is : \", np.var(sample), \" / result of v  for variance is : \", np.var(BS_sample) ) "
   ]
  },
  {
   "cell_type": "code",
   "execution_count": null,
   "metadata": {
    "colab": {
     "base_uri": "https://localhost:8080/",
     "height": 295
    },
    "executionInfo": {
     "elapsed": 1117,
     "status": "ok",
     "timestamp": 1654539517429,
     "user": {
      "displayName": "Srivathsan B",
      "userId": "15069704459336375084"
     },
     "user_tz": -330
    },
    "id": "Kj_FV6-oHp9E",
    "outputId": "e297f3bf-f730-472c-ea57-ddd7255ec547"
   },
   "outputs": [],
   "source": [
    "# ploting the Mean of Sample, 10000 Samples mean and 10000 Bootstrap means\n",
    "Question  = [3,4,5] # x- axis as question numbers \n",
    "Mean = [np.mean(s),np.mean(sample),np.mean(BS_sample)] # means for various questions.\n",
    "   \n",
    "plt.plot(Question, Mean)\n",
    "plt.title('Mean across iii,iv,v')\n",
    "plt.xlabel('Question')\n",
    "plt.ylabel('Mean')\n",
    "plt.show()"
   ]
  },
  {
   "cell_type": "code",
   "execution_count": null,
   "metadata": {
    "colab": {
     "base_uri": "https://localhost:8080/",
     "height": 295
    },
    "executionInfo": {
     "elapsed": 400,
     "status": "ok",
     "timestamp": 1654539649000,
     "user": {
      "displayName": "Srivathsan B",
      "userId": "15069704459336375084"
     },
     "user_tz": -330
    },
    "id": "7053bMwzPRaF",
    "outputId": "aaab0c86-2be3-4161-8172-9b10b899ded8"
   },
   "outputs": [],
   "source": [
    "# ploting the Mean of Sample, 10000 Samples mean and 10000 Bootstrap means\n",
    "Question  = [3,4,5] # x-axis question numbers \n",
    "Variance  = [P.var()/200,np.var(sample),np.var(BS_sample)] # variance for questions \n",
    "  \n",
    "plt.plot(Question, Variance)\n",
    "plt.title('Variance  across iii,iv,v')\n",
    "plt.xlabel('Question')\n",
    "plt.ylabel('Variance')\n",
    "plt.show()"
   ]
  },
  {
   "cell_type": "code",
   "execution_count": null,
   "metadata": {
    "id": "W8MapDgNP3sV"
   },
   "outputs": [],
   "source": []
  }
 ],
 "metadata": {
  "colab": {
   "authorship_tag": "ABX9TyMJQarR5eQ8lupIekT9hA/z",
   "collapsed_sections": [],
   "mount_file_id": "1HTG1UzW84cJJ529p9wTwOAwyNFU3F_EV",
   "name": "E22034 AML Experiment 6.ipynb",
   "provenance": [
    {
     "file_id": "1xW_6iBgKiADt6iewM_nprp-p206ictRr",
     "timestamp": 1654534328118
    }
   ]
  },
  "kernelspec": {
   "display_name": "Python 3",
   "language": "python",
   "name": "python3"
  },
  "language_info": {
   "codemirror_mode": {
    "name": "ipython",
    "version": 3
   },
   "file_extension": ".py",
   "mimetype": "text/x-python",
   "name": "python",
   "nbconvert_exporter": "python",
   "pygments_lexer": "ipython3",
   "version": "3.7.6"
  }
 },
 "nbformat": 4,
 "nbformat_minor": 1
}
