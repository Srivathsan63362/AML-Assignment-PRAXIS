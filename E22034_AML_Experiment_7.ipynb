{
  "nbformat": 4,
  "nbformat_minor": 0,
  "metadata": {
    "colab": {
      "name": "E22034 AML Experiment 7.ipynb",
      "provenance": [],
      "collapsed_sections": []
    },
    "kernelspec": {
      "name": "python3",
      "display_name": "Python 3"
    },
    "language_info": {
      "name": "python"
    }
  },
  "cells": [
    {
      "cell_type": "markdown",
      "source": [
        " ## Srivathsan B   -  E22034"
      ],
      "metadata": {
        "id": "0ZuDa8qZYhnr"
      }
    },
    {
      "cell_type": "markdown",
      "source": [
        "# Experiment 7:\n",
        "\n",
        "AIM : \n",
        "#### Use cars.csv with variables  MPG as Dependent variable and and all otehr variables as  Independent Variables\n",
        "#### Draw 1000 random samples of size 150\n",
        "#### For each random sample \n",
        "            i. Fit a Decision tree model to predict MPG.\n",
        "            ii. Fit a Bagged Regressor model \n",
        "            iii. Conclude which one has a high variance model. "
      ],
      "metadata": {
        "id": "qh5-b5MaYiI1"
      }
    },
    {
      "cell_type": "code",
      "source": [
        "# Importing the dependencies \n",
        "\n",
        "import pandas as pd\n",
        "import numpy as np\n",
        "import random\n",
        "from sklearn.tree import DecisionTreeRegressor\n",
        "from sklearn.ensemble import BaggingRegressor"
      ],
      "metadata": {
        "id": "EohyCM5tY6wc"
      },
      "execution_count": 3,
      "outputs": []
    },
    {
      "cell_type": "code",
      "source": [
        "# mounting the drive \n",
        "\n",
        "from google.colab import drive\n",
        "drive.mount('/content/drive')"
      ],
      "metadata": {
        "colab": {
          "base_uri": "https://localhost:8080/"
        },
        "id": "GhfHf55TZVSn",
        "outputId": "cf88329a-a680-4ddd-a7d9-ace469940f20"
      },
      "execution_count": 5,
      "outputs": [
        {
          "output_type": "stream",
          "name": "stdout",
          "text": [
            "Mounted at /content/drive\n"
          ]
        }
      ]
    },
    {
      "cell_type": "code",
      "source": [
        "# reading the data from the google drive and reading as pandas dataset.\n",
        "\n",
        "df = pd.read_csv('/content/drive/MyDrive/AML /cars.csv')\n",
        "df.head() # Shows the first 5 rows of the dataset variable name df\n"
      ],
      "metadata": {
        "colab": {
          "base_uri": "https://localhost:8080/",
          "height": 206
        },
        "id": "RaiTcqjUY7mc",
        "outputId": "02315f3e-32e5-43f6-e8c7-96ee11ae1eeb"
      },
      "execution_count": 6,
      "outputs": [
        {
          "output_type": "execute_result",
          "data": {
            "text/plain": [
              "                         Car   MPG  Cylinders  Displacement  Horsepower  \\\n",
              "0  Chevrolet Chevelle Malibu  18.0          8         307.0         130   \n",
              "1          Buick Skylark 320  15.0          8         350.0         165   \n",
              "2         Plymouth Satellite  18.0          8         318.0         150   \n",
              "3              AMC Rebel SST  16.0          8         304.0         150   \n",
              "4                Ford Torino  17.0          8         302.0         140   \n",
              "\n",
              "   Weight  Acceleration  Model Origin  \n",
              "0    3504          12.0     70     US  \n",
              "1    3693          11.5     70     US  \n",
              "2    3436          11.0     70     US  \n",
              "3    3433          12.0     70     US  \n",
              "4    3449          10.5     70     US  "
            ],
            "text/html": [
              "\n",
              "  <div id=\"df-e475496b-2f03-48df-9272-26dbbbe033b4\">\n",
              "    <div class=\"colab-df-container\">\n",
              "      <div>\n",
              "<style scoped>\n",
              "    .dataframe tbody tr th:only-of-type {\n",
              "        vertical-align: middle;\n",
              "    }\n",
              "\n",
              "    .dataframe tbody tr th {\n",
              "        vertical-align: top;\n",
              "    }\n",
              "\n",
              "    .dataframe thead th {\n",
              "        text-align: right;\n",
              "    }\n",
              "</style>\n",
              "<table border=\"1\" class=\"dataframe\">\n",
              "  <thead>\n",
              "    <tr style=\"text-align: right;\">\n",
              "      <th></th>\n",
              "      <th>Car</th>\n",
              "      <th>MPG</th>\n",
              "      <th>Cylinders</th>\n",
              "      <th>Displacement</th>\n",
              "      <th>Horsepower</th>\n",
              "      <th>Weight</th>\n",
              "      <th>Acceleration</th>\n",
              "      <th>Model</th>\n",
              "      <th>Origin</th>\n",
              "    </tr>\n",
              "  </thead>\n",
              "  <tbody>\n",
              "    <tr>\n",
              "      <th>0</th>\n",
              "      <td>Chevrolet Chevelle Malibu</td>\n",
              "      <td>18.0</td>\n",
              "      <td>8</td>\n",
              "      <td>307.0</td>\n",
              "      <td>130</td>\n",
              "      <td>3504</td>\n",
              "      <td>12.0</td>\n",
              "      <td>70</td>\n",
              "      <td>US</td>\n",
              "    </tr>\n",
              "    <tr>\n",
              "      <th>1</th>\n",
              "      <td>Buick Skylark 320</td>\n",
              "      <td>15.0</td>\n",
              "      <td>8</td>\n",
              "      <td>350.0</td>\n",
              "      <td>165</td>\n",
              "      <td>3693</td>\n",
              "      <td>11.5</td>\n",
              "      <td>70</td>\n",
              "      <td>US</td>\n",
              "    </tr>\n",
              "    <tr>\n",
              "      <th>2</th>\n",
              "      <td>Plymouth Satellite</td>\n",
              "      <td>18.0</td>\n",
              "      <td>8</td>\n",
              "      <td>318.0</td>\n",
              "      <td>150</td>\n",
              "      <td>3436</td>\n",
              "      <td>11.0</td>\n",
              "      <td>70</td>\n",
              "      <td>US</td>\n",
              "    </tr>\n",
              "    <tr>\n",
              "      <th>3</th>\n",
              "      <td>AMC Rebel SST</td>\n",
              "      <td>16.0</td>\n",
              "      <td>8</td>\n",
              "      <td>304.0</td>\n",
              "      <td>150</td>\n",
              "      <td>3433</td>\n",
              "      <td>12.0</td>\n",
              "      <td>70</td>\n",
              "      <td>US</td>\n",
              "    </tr>\n",
              "    <tr>\n",
              "      <th>4</th>\n",
              "      <td>Ford Torino</td>\n",
              "      <td>17.0</td>\n",
              "      <td>8</td>\n",
              "      <td>302.0</td>\n",
              "      <td>140</td>\n",
              "      <td>3449</td>\n",
              "      <td>10.5</td>\n",
              "      <td>70</td>\n",
              "      <td>US</td>\n",
              "    </tr>\n",
              "  </tbody>\n",
              "</table>\n",
              "</div>\n",
              "      <button class=\"colab-df-convert\" onclick=\"convertToInteractive('df-e475496b-2f03-48df-9272-26dbbbe033b4')\"\n",
              "              title=\"Convert this dataframe to an interactive table.\"\n",
              "              style=\"display:none;\">\n",
              "        \n",
              "  <svg xmlns=\"http://www.w3.org/2000/svg\" height=\"24px\"viewBox=\"0 0 24 24\"\n",
              "       width=\"24px\">\n",
              "    <path d=\"M0 0h24v24H0V0z\" fill=\"none\"/>\n",
              "    <path d=\"M18.56 5.44l.94 2.06.94-2.06 2.06-.94-2.06-.94-.94-2.06-.94 2.06-2.06.94zm-11 1L8.5 8.5l.94-2.06 2.06-.94-2.06-.94L8.5 2.5l-.94 2.06-2.06.94zm10 10l.94 2.06.94-2.06 2.06-.94-2.06-.94-.94-2.06-.94 2.06-2.06.94z\"/><path d=\"M17.41 7.96l-1.37-1.37c-.4-.4-.92-.59-1.43-.59-.52 0-1.04.2-1.43.59L10.3 9.45l-7.72 7.72c-.78.78-.78 2.05 0 2.83L4 21.41c.39.39.9.59 1.41.59.51 0 1.02-.2 1.41-.59l7.78-7.78 2.81-2.81c.8-.78.8-2.07 0-2.86zM5.41 20L4 18.59l7.72-7.72 1.47 1.35L5.41 20z\"/>\n",
              "  </svg>\n",
              "      </button>\n",
              "      \n",
              "  <style>\n",
              "    .colab-df-container {\n",
              "      display:flex;\n",
              "      flex-wrap:wrap;\n",
              "      gap: 12px;\n",
              "    }\n",
              "\n",
              "    .colab-df-convert {\n",
              "      background-color: #E8F0FE;\n",
              "      border: none;\n",
              "      border-radius: 50%;\n",
              "      cursor: pointer;\n",
              "      display: none;\n",
              "      fill: #1967D2;\n",
              "      height: 32px;\n",
              "      padding: 0 0 0 0;\n",
              "      width: 32px;\n",
              "    }\n",
              "\n",
              "    .colab-df-convert:hover {\n",
              "      background-color: #E2EBFA;\n",
              "      box-shadow: 0px 1px 2px rgba(60, 64, 67, 0.3), 0px 1px 3px 1px rgba(60, 64, 67, 0.15);\n",
              "      fill: #174EA6;\n",
              "    }\n",
              "\n",
              "    [theme=dark] .colab-df-convert {\n",
              "      background-color: #3B4455;\n",
              "      fill: #D2E3FC;\n",
              "    }\n",
              "\n",
              "    [theme=dark] .colab-df-convert:hover {\n",
              "      background-color: #434B5C;\n",
              "      box-shadow: 0px 1px 3px 1px rgba(0, 0, 0, 0.15);\n",
              "      filter: drop-shadow(0px 1px 2px rgba(0, 0, 0, 0.3));\n",
              "      fill: #FFFFFF;\n",
              "    }\n",
              "  </style>\n",
              "\n",
              "      <script>\n",
              "        const buttonEl =\n",
              "          document.querySelector('#df-e475496b-2f03-48df-9272-26dbbbe033b4 button.colab-df-convert');\n",
              "        buttonEl.style.display =\n",
              "          google.colab.kernel.accessAllowed ? 'block' : 'none';\n",
              "\n",
              "        async function convertToInteractive(key) {\n",
              "          const element = document.querySelector('#df-e475496b-2f03-48df-9272-26dbbbe033b4');\n",
              "          const dataTable =\n",
              "            await google.colab.kernel.invokeFunction('convertToInteractive',\n",
              "                                                     [key], {});\n",
              "          if (!dataTable) return;\n",
              "\n",
              "          const docLinkHtml = 'Like what you see? Visit the ' +\n",
              "            '<a target=\"_blank\" href=https://colab.research.google.com/notebooks/data_table.ipynb>data table notebook</a>'\n",
              "            + ' to learn more about interactive tables.';\n",
              "          element.innerHTML = '';\n",
              "          dataTable['output_type'] = 'display_data';\n",
              "          await google.colab.output.renderOutput(dataTable, element);\n",
              "          const docLink = document.createElement('div');\n",
              "          docLink.innerHTML = docLinkHtml;\n",
              "          element.appendChild(docLink);\n",
              "        }\n",
              "      </script>\n",
              "    </div>\n",
              "  </div>\n",
              "  "
            ]
          },
          "metadata": {},
          "execution_count": 6
        }
      ]
    },
    {
      "cell_type": "code",
      "source": [
        "# Droping Car Variable \n",
        "df = df.drop([\"Car\"], axis = True)"
      ],
      "metadata": {
        "id": "XZskW8nGt5qC"
      },
      "execution_count": 7,
      "outputs": []
    },
    {
      "cell_type": "code",
      "source": [
        "# Creating Dummy variables for Origin.\n",
        "df_1 = pd.get_dummies(df)"
      ],
      "metadata": {
        "id": "UoBT4Rhtr1XM"
      },
      "execution_count": 8,
      "outputs": []
    },
    {
      "cell_type": "code",
      "source": [
        "# Seperating the independent and dependent variables \n",
        "X = df_1.drop(['MPG'], axis = 1 ) # All X's values \n",
        "y = df_1.MPG # y - values "
      ],
      "metadata": {
        "id": "AOnMn_Wzatfr"
      },
      "execution_count": 9,
      "outputs": []
    },
    {
      "cell_type": "markdown",
      "source": [
        "# Taking 1000 random samples with 150 observations and fitting a Decision Tree model with default settings."
      ],
      "metadata": {
        "id": "5A_JcFG-budy"
      }
    },
    {
      "cell_type": "code",
      "source": [
        "predicted_Dtree = [] # Initializing a empty list.\n",
        "\n",
        "\n",
        "for i in range (1,1001): # initiating a loop for 1001 times.\n",
        "    \n",
        "    test = X.sample(1,random_state = 123) # taking a fixed sample.\n",
        "    train_X = X.sample(150) # Taking 150 observations for train in X.\n",
        "    train_y = y.sample(150) # Taking 150 observations for test data in y.\n",
        "    \n",
        "    # Step-1: instantiate learning model.\n",
        "    D_tree = DecisionTreeRegressor()   \n",
        "\n",
        "    # Step-2: fitting the model.\n",
        "    D_tree.fit(train_X, train_y)\n",
        "\n",
        "    # Step-3: Predicting the values.\n",
        "    predicted_values_Dtree = D_tree.predict(test) # Making predictions for a fixed test input.\n",
        "    predicted_Dtree.append(predicted_values_Dtree) # Appending the predictions into predicted_Dtree\n",
        "\n",
        "np.var(predicted_Dtree) # Calculating the variance of Decision tree model "
      ],
      "metadata": {
        "colab": {
          "base_uri": "https://localhost:8080/"
        },
        "id": "bkIU80Aja3ZS",
        "outputId": "bb0045f4-36b5-4310-c6c9-be9051bdd289"
      },
      "execution_count": 10,
      "outputs": [
        {
          "output_type": "execute_result",
          "data": {
            "text/plain": [
              "70.97514416"
            ]
          },
          "metadata": {},
          "execution_count": 10
        }
      ]
    },
    {
      "cell_type": "markdown",
      "source": [
        "Taking 1000 random samples with 150 observations and fitting a Bagging model with default settings."
      ],
      "metadata": {
        "id": "nZLMghghcYUq"
      }
    },
    {
      "cell_type": "code",
      "source": [
        "predicted_Bagging = [] # Initializing a empty list.\n",
        "\n",
        "\n",
        "for i in range (1,1001): # initiating a loop for 1001 times.\n",
        "    \n",
        "    test = X.sample(1,random_state = 123) # taking a fixed sample.\n",
        "    train_X = X.sample(150) # Taking 150 observations for train in X.\n",
        "    train_y = y.sample(150) # Taking 150 observations for test data in y.\n",
        "    \n",
        "    # Step-1: instantiate learning model.\n",
        "    baggedModel = BaggingRegressor(base_estimator=None, n_estimators=10)\n",
        "\n",
        "    # Step-2: fitting the model.\n",
        "    baggedModel.fit(train_X, train_y)\n",
        "\n",
        "    # Step-3: Predicting the values.\n",
        "    predicted_values_Bagging = baggedModel.predict(test) # Making predictions for a fixed test input.\n",
        "    predicted_Bagging.append(predicted_values_Bagging) # Appending the predictions into predicted_Bagging\n",
        "\n",
        "np.var(predicted_Bagging) # Calculating the variance of Ensamble  Bagged Model "
      ],
      "metadata": {
        "colab": {
          "base_uri": "https://localhost:8080/"
        },
        "id": "6-Ozi0KIcPo4",
        "outputId": "01371ee2-9cbc-4ba4-be4b-98653c91089e"
      },
      "execution_count": 11,
      "outputs": [
        {
          "output_type": "execute_result",
          "data": {
            "text/plain": [
              "22.3505101376"
            ]
          },
          "metadata": {},
          "execution_count": 11
        }
      ]
    },
    {
      "cell_type": "markdown",
      "source": [
        "## **Conclusion : **\n",
        "*Experiment 7 Concludes that, in comparing the Decision Tree models with Ensamble Bagging Model. We found that Bagging Model Shows very less variance. Compared to Decision tree model."
      ],
      "metadata": {
        "id": "ZI8xluHudtaJ"
      }
    },
    {
      "cell_type": "code",
      "source": [
        ""
      ],
      "metadata": {
        "id": "bxtoszlzeFwH"
      },
      "execution_count": null,
      "outputs": []
    }
  ]
}