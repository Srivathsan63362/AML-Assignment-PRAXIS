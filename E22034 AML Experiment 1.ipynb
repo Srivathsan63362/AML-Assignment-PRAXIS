{
 "cells": [
  {
   "cell_type": "markdown",
   "metadata": {},
   "source": [
    "   ## Srivathsan B   -  E22034"
   ]
  },
  {
   "cell_type": "markdown",
   "metadata": {},
   "source": [
    "# Experiment 1:\n",
    "#### Use cars.csv with variables  MPG as Dependent variable and HP,WT,CYL,DISP as Independent Variable \n",
    "#### Draw 200 random samples of size 80\n",
    "#### For each random sample \n",
    "            i . Fit a KNN Model with default settings \n",
    "            ii. Fit a Decision tree model with default settings \n",
    "            iii.Make predictions for a fixed test input \n",
    "            iv. Calculate the variance of the output for the KNN Model \n",
    "            v.  Calculate the variance of the output for the Decision tree Model \n",
    "            vi. Conclude which one has a high variance model. "
   ]
  },
  {
   "cell_type": "markdown",
   "metadata": {},
   "source": [
    "Drive Link for The dataset \n",
    "\n",
    "https://drive.google.com/file/d/1442Yu_xoBLnHlPmDuSbvfCGGMLSFR4ja/view?usp=sharing"
   ]
  },
  {
   "cell_type": "code",
   "execution_count": 1,
   "metadata": {},
   "outputs": [],
   "source": [
    "# Importing the dependencies \n",
    "\n",
    "import pandas as pd\n",
    "import numpy as np\n",
    "import random\n",
    "from sklearn.model_selection import train_test_split\n",
    "from sklearn.neighbors import KNeighborsRegressor"
   ]
  },
  {
   "cell_type": "code",
   "execution_count": 2,
   "metadata": {},
   "outputs": [],
   "source": [
    "# Data to Dataframe \n",
    "data = pd.read_csv('C:\\\\Users\\\\SARANYA B\\\\Desktop\\\\Machine Learning\\\\cars.csv')"
   ]
  },
  {
   "cell_type": "code",
   "execution_count": 3,
   "metadata": {},
   "outputs": [],
   "source": [
    "# Droping Variables which is not required for the experiment.\n",
    "df = data.drop([\"Car\",'Acceleration','Model','Origin'], axis = True)"
   ]
  },
  {
   "cell_type": "code",
   "execution_count": 14,
   "metadata": {},
   "outputs": [],
   "source": [
    "# Seperating the independent and dependent variables \n",
    "X = df.drop(['MPG'], axis = 1 ) # All X's values \n",
    "y = df.MPG # y - values "
   ]
  },
  {
   "cell_type": "code",
   "execution_count": 15,
   "metadata": {},
   "outputs": [],
   "source": [
    "# Train and Test split \n",
    "# X_train,X_test,y_train,y_test = train_test_split # in test as 1 observation and rest all as training observations with a random state.  "
   ]
  },
  {
   "cell_type": "code",
   "execution_count": 7,
   "metadata": {},
   "outputs": [],
   "source": [
    "# Checking the size of train and test data.\n",
    "#X_train.shape,X_test.shape"
   ]
  },
  {
   "cell_type": "code",
   "execution_count": null,
   "metadata": {},
   "outputs": [],
   "source": [
    "#X_test"
   ]
  },
  {
   "cell_type": "code",
   "execution_count": null,
   "metadata": {},
   "outputs": [],
   "source": [
    "#y_test.shape,y_train.shape"
   ]
  },
  {
   "cell_type": "code",
   "execution_count": 20,
   "metadata": {},
   "outputs": [],
   "source": []
  },
  {
   "cell_type": "code",
   "execution_count": 21,
   "metadata": {},
   "outputs": [
    {
     "data": {
      "text/html": [
       "<div>\n",
       "<style scoped>\n",
       "    .dataframe tbody tr th:only-of-type {\n",
       "        vertical-align: middle;\n",
       "    }\n",
       "\n",
       "    .dataframe tbody tr th {\n",
       "        vertical-align: top;\n",
       "    }\n",
       "\n",
       "    .dataframe thead th {\n",
       "        text-align: right;\n",
       "    }\n",
       "</style>\n",
       "<table border=\"1\" class=\"dataframe\">\n",
       "  <thead>\n",
       "    <tr style=\"text-align: right;\">\n",
       "      <th></th>\n",
       "      <th>Cylinders</th>\n",
       "      <th>Displacement</th>\n",
       "      <th>Horsepower</th>\n",
       "      <th>Weight</th>\n",
       "    </tr>\n",
       "  </thead>\n",
       "  <tbody>\n",
       "    <tr>\n",
       "      <th>159</th>\n",
       "      <td>6</td>\n",
       "      <td>225.0</td>\n",
       "      <td>95</td>\n",
       "      <td>3264</td>\n",
       "    </tr>\n",
       "  </tbody>\n",
       "</table>\n",
       "</div>"
      ],
      "text/plain": [
       "     Cylinders  Displacement  Horsepower  Weight\n",
       "159          6         225.0          95    3264"
      ]
     },
     "execution_count": 21,
     "metadata": {},
     "output_type": "execute_result"
    }
   ],
   "source": [
    "test"
   ]
  },
  {
   "cell_type": "code",
   "execution_count": 26,
   "metadata": {},
   "outputs": [
    {
     "data": {
      "text/plain": [
       "13.43894976"
      ]
     },
     "execution_count": 26,
     "metadata": {},
     "output_type": "execute_result"
    }
   ],
   "source": [
    "predicted_knn = []\n",
    "for i in range (1,201):\n",
    "    \n",
    "    test = X.sample(1,random_state = 123)\n",
    "    train_X = X.sample(80)\n",
    "    train_y = y.sample(80)\n",
    "    \n",
    "    # Step-1: instantiate learning model\n",
    "    knn = KNeighborsRegressor() \n",
    "\n",
    "    # Step-2: fitting the model\n",
    "    knn.fit(train_X, train_y)\n",
    "\n",
    "    # Step-3: Predicting the values \n",
    "    predicted_values = knn.predict(test)\n",
    "    predicted_knn.append(predicted_values)\n",
    "\n",
    "np.var(predicted_knn)"
   ]
  },
  {
   "cell_type": "code",
   "execution_count": null,
   "metadata": {},
   "outputs": [],
   "source": [
    "test"
   ]
  },
  {
   "cell_type": "code",
   "execution_count": null,
   "metadata": {},
   "outputs": [],
   "source": [
    "Sample_X.head()"
   ]
  },
  {
   "cell_type": "code",
   "execution_count": null,
   "metadata": {},
   "outputs": [],
   "source": [
    "Sample_y.head()"
   ]
  },
  {
   "cell_type": "code",
   "execution_count": 8,
   "metadata": {},
   "outputs": [],
   "source": [
    "X = np.array([11.3       ,  9.63333333, 16.36666667, 22.9       , 17.66666667,\n",
    "        9.8       ,  9.23333333,  6.4       , 13.23333333, 12.6       ,\n",
    "       11.6       , 22.66666667,  6.53333333, 17.76666667, 15.5       ,\n",
    "       11.33333333, 25.6       , 10.2       , 18.9       ,  8.9       ,\n",
    "       13.4       , 10.3       , 12.23333333,  9.56666667, 13.7       ,\n",
    "       15.16666667, 19.33333333, 23.        , 13.7       , 17.86666667,\n",
    "       24.23333333, 15.56666667, 12.06666667, 15.13333333,  9.33333333,\n",
    "       22.73333333, 23.23333333,  8.4       , 19.63333333, 13.76666667])"
   ]
  },
  {
   "cell_type": "code",
   "execution_count": 10,
   "metadata": {},
   "outputs": [
    {
     "data": {
      "text/plain": [
       "27.06573264004236"
      ]
     },
     "execution_count": 10,
     "metadata": {},
     "output_type": "execute_result"
    }
   ],
   "source": [
    "X.var()"
   ]
  },
  {
   "cell_type": "code",
   "execution_count": null,
   "metadata": {},
   "outputs": [],
   "source": []
  }
 ],
 "metadata": {
  "kernelspec": {
   "display_name": "Python 3",
   "language": "python",
   "name": "python3"
  },
  "language_info": {
   "codemirror_mode": {
    "name": "ipython",
    "version": 3
   },
   "file_extension": ".py",
   "mimetype": "text/x-python",
   "name": "python",
   "nbconvert_exporter": "python",
   "pygments_lexer": "ipython3",
   "version": "3.7.6"
  }
 },
 "nbformat": 4,
 "nbformat_minor": 4
}
