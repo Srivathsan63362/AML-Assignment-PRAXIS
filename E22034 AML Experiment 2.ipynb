{
 "cells": [
  {
   "cell_type": "markdown",
   "metadata": {
    "id": "0ZuDa8qZYhnr"
   },
   "source": [
    " ## Srivathsan B   -  E22034"
   ]
  },
  {
   "cell_type": "markdown",
   "metadata": {
    "id": "qh5-b5MaYiI1"
   },
   "source": [
    "# Experiment 2:\n",
    "\n",
    "AIM : \n",
    "#### Use cars.csv with variables  MPG as Dependent variable and HP,WT,CYL,DISP as Independent Variable \n",
    "#### Draw 200 random samples of size 80\n",
    "#### For each random sample \n",
    "            i. Fit a Decision tree model\n",
    "            ii.Decision tree with max_depth = 4\n",
    "            iii. Decision tree with max_depth = 8\n",
    "            iii.Make predictions for a fixed test input \n",
    "            iv. Study the variance of the output\n",
    "            v. Conclude which one has a high variance model. "
   ]
  },
  {
   "cell_type": "code",
   "execution_count": 1,
   "metadata": {
    "id": "EohyCM5tY6wc"
   },
   "outputs": [],
   "source": [
    "# Importing the dependencies \n",
    "\n",
    "import pandas as pd\n",
    "import numpy as np\n",
    "import random\n",
    "from sklearn.tree import DecisionTreeRegressor"
   ]
  },
  {
   "cell_type": "code",
   "execution_count": 2,
   "metadata": {
    "colab": {
     "base_uri": "https://localhost:8080/"
    },
    "executionInfo": {
     "elapsed": 22457,
     "status": "ok",
     "timestamp": 1654025451474,
     "user": {
      "displayName": "Srivathsan B",
      "userId": "15069704459336375084"
     },
     "user_tz": -330
    },
    "id": "GhfHf55TZVSn",
    "outputId": "49f19e31-c2e6-4a77-a30d-f2b5dd83db6b"
   },
   "outputs": [
    {
     "ename": "ModuleNotFoundError",
     "evalue": "No module named 'google'",
     "output_type": "error",
     "traceback": [
      "\u001b[1;31m---------------------------------------------------------------------------\u001b[0m",
      "\u001b[1;31mModuleNotFoundError\u001b[0m                       Traceback (most recent call last)",
      "\u001b[1;32m<ipython-input-2-7c502f6a301f>\u001b[0m in \u001b[0;36m<module>\u001b[1;34m\u001b[0m\n\u001b[0;32m      1\u001b[0m \u001b[1;31m# mounting the drive\u001b[0m\u001b[1;33m\u001b[0m\u001b[1;33m\u001b[0m\u001b[1;33m\u001b[0m\u001b[0m\n\u001b[0;32m      2\u001b[0m \u001b[1;33m\u001b[0m\u001b[0m\n\u001b[1;32m----> 3\u001b[1;33m \u001b[1;32mfrom\u001b[0m \u001b[0mgoogle\u001b[0m\u001b[1;33m.\u001b[0m\u001b[0mcolab\u001b[0m \u001b[1;32mimport\u001b[0m \u001b[0mdrive\u001b[0m\u001b[1;33m\u001b[0m\u001b[1;33m\u001b[0m\u001b[0m\n\u001b[0m\u001b[0;32m      4\u001b[0m \u001b[0mdrive\u001b[0m\u001b[1;33m.\u001b[0m\u001b[0mmount\u001b[0m\u001b[1;33m(\u001b[0m\u001b[1;34m'/content/drive'\u001b[0m\u001b[1;33m)\u001b[0m\u001b[1;33m\u001b[0m\u001b[1;33m\u001b[0m\u001b[0m\n",
      "\u001b[1;31mModuleNotFoundError\u001b[0m: No module named 'google'"
     ]
    }
   ],
   "source": [
    "# mounting the drive \n",
    "\n",
    "from google.colab import drive\n",
    "drive.mount('/content/drive')"
   ]
  },
  {
   "cell_type": "code",
   "execution_count": null,
   "metadata": {
    "colab": {
     "base_uri": "https://localhost:8080/",
     "height": 206
    },
    "executionInfo": {
     "elapsed": 617,
     "status": "ok",
     "timestamp": 1654025452076,
     "user": {
      "displayName": "Srivathsan B",
      "userId": "15069704459336375084"
     },
     "user_tz": -330
    },
    "id": "RaiTcqjUY7mc",
    "outputId": "7add8c23-befd-4bf0-bcb0-e106da751603"
   },
   "outputs": [],
   "source": [
    "# reading the data from the google drive and reading as pandas dataset.\n",
    "\n",
    "df = pd.read_csv('/content/drive/MyDrive/AML /cars.csv')\n",
    "df.head() # Shows the first 5 rows of the dataset variable name df"
   ]
  },
  {
   "cell_type": "code",
   "execution_count": null,
   "metadata": {
    "id": "e4YKpPHVZEzh"
   },
   "outputs": [],
   "source": [
    "# Droping Variables which is not required for the experiment.\n",
    "df = df.drop([\"Car\",'Acceleration','Model','Origin'], axis = True)"
   ]
  },
  {
   "cell_type": "code",
   "execution_count": null,
   "metadata": {
    "id": "AOnMn_Wzatfr"
   },
   "outputs": [],
   "source": [
    "# Seperating the independent and dependent variables \n",
    "X = df.drop(['MPG'], axis = 1 ) # All X's values \n",
    "y = df.MPG # y - values "
   ]
  },
  {
   "cell_type": "markdown",
   "metadata": {
    "id": "5A_JcFG-budy"
   },
   "source": [
    "# Taking 200 random samples with 80 observations and fitting a Decision Tree model with max_depth = 4 and making predictions for fixed test input."
   ]
  },
  {
   "cell_type": "code",
   "execution_count": null,
   "metadata": {
    "colab": {
     "base_uri": "https://localhost:8080/"
    },
    "executionInfo": {
     "elapsed": 1692,
     "status": "ok",
     "timestamp": 1654025542998,
     "user": {
      "displayName": "Srivathsan B",
      "userId": "15069704459336375084"
     },
     "user_tz": -330
    },
    "id": "bkIU80Aja3ZS",
    "outputId": "e9ebac17-aec0-4f2d-aa4b-46ce80a2e96c"
   },
   "outputs": [
    {
     "data": {
      "text/plain": [
       "16.501558430851386"
      ]
     },
     "execution_count": 7,
     "metadata": {},
     "output_type": "execute_result"
    }
   ],
   "source": [
    "predicted_Dtree_4 = [] # Initializing a empty list.\n",
    "\n",
    "\n",
    "for i in range (1,201): # initiating a loop for 200 times.\n",
    "    \n",
    "    test = X.sample(1,random_state = 123) # taking a fixed sample.\n",
    "    train_X = X.sample(80) # Taking 80 observations for train in X.\n",
    "    train_y = y.sample(80) # Taking 80 observations for test data in y.\n",
    "    \n",
    "    # Step-1: instantiate learning model.\n",
    "    D_tree = DecisionTreeRegressor(max_depth = 4)   # Fitting  a Decision tree  Model with max_depth = 4.\n",
    "\n",
    "    # Step-2: fitting the model.\n",
    "    D_tree.fit(train_X, train_y)\n",
    "\n",
    "    # Step-3: Predicting the values.\n",
    "    predicted_values_Dtree = D_tree.predict(test) # Making predictions for a fixed test input.\n",
    "    predicted_Dtree_4.append(predicted_values_Dtree) # Appending the predictions into predicted_Dtree_4\n",
    "\n",
    "np.var(predicted_Dtree_4) # Calculating the variance of Decision tree model "
   ]
  },
  {
   "cell_type": "markdown",
   "metadata": {
    "id": "nZLMghghcYUq"
   },
   "source": [
    "# Taking 200 random samples with 80 observations and fitting a Decision Tree model with max_depth = 8 and making predictions for fixed test input."
   ]
  },
  {
   "cell_type": "code",
   "execution_count": 9,
   "metadata": {
    "colab": {
     "base_uri": "https://localhost:8080/"
    },
    "executionInfo": {
     "elapsed": 2171,
     "status": "ok",
     "timestamp": 1654026446786,
     "user": {
      "displayName": "Srivathsan B",
      "userId": "15069704459336375084"
     },
     "user_tz": -330
    },
    "id": "6-Ozi0KIcPo4",
    "outputId": "facecb33-fa60-4500-945d-8006b4c54078"
   },
   "outputs": [
    {
     "data": {
      "text/plain": [
       "54.651003941402706"
      ]
     },
     "execution_count": 9,
     "metadata": {},
     "output_type": "execute_result"
    }
   ],
   "source": [
    "predicted_Dtree_8 = [] # Initializing a empty list.\n",
    "\n",
    "\n",
    "for i in range (1,201): # initiating a loop for 200 times.\n",
    "    \n",
    "    test = X.sample(1,random_state = 123) # taking a fixed sample.\n",
    "    train_X = X.sample(80) # Taking 80 observations for train in X.\n",
    "    train_y = y.sample(80) # Taking 80 observations for test data in y.\n",
    "    \n",
    "    # Step-1: instantiate learning model.\n",
    "    D_tree = DecisionTreeRegressor(max_depth = 8)   # Fitting  a Decision tree  Model with max_depth as 8\n",
    "\n",
    "    # Step-2: fitting the model.\n",
    "    D_tree.fit(train_X, train_y)\n",
    "\n",
    "    # Step-3: Predicting the values.\n",
    "    predicted_values_Dtree = D_tree.predict(test) # Making predictions for a fixed test input.\n",
    "    predicted_Dtree_8.append(predicted_values_Dtree) # Appending the predictions into predicted_Dtree_8 list.\n",
    "\n",
    "np.var(predicted_Dtree_8) # Calculating the variance of Decision tree model "
   ]
  },
  {
   "cell_type": "markdown",
   "metadata": {
    "id": "ZI8xluHudtaJ"
   },
   "source": [
    "## **Conclusion : **\n",
    "*Experiment 2 Concludes that, in comparing the Decision Tree models with max_depth 4 & 8 we fount out that Decision Tree model with max_depth 8 has High Variance. *"
   ]
  },
  {
   "cell_type": "code",
   "execution_count": null,
   "metadata": {
    "id": "bxtoszlzeFwH"
   },
   "outputs": [],
   "source": []
  }
 ],
 "metadata": {
  "colab": {
   "authorship_tag": "ABX9TyPQtL8tZJBSkjoXnrbepr2M",
   "collapsed_sections": [],
   "mount_file_id": "1qMi_F6imNzehI6knvdJ72f4Jb2Zp-mIF",
   "name": "E22034 AML Experiment 2.ipynb",
   "provenance": [
    {
     "file_id": "1qMi_F6imNzehI6knvdJ72f4Jb2Zp-mIF",
     "timestamp": 1654023611763
    }
   ]
  },
  "kernelspec": {
   "display_name": "Python 3",
   "language": "python",
   "name": "python3"
  },
  "language_info": {
   "codemirror_mode": {
    "name": "ipython",
    "version": 3
   },
   "file_extension": ".py",
   "mimetype": "text/x-python",
   "name": "python",
   "nbconvert_exporter": "python",
   "pygments_lexer": "ipython3",
   "version": "3.7.6"
  }
 },
 "nbformat": 4,
 "nbformat_minor": 1
}
