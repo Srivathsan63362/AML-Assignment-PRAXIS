{
 "cells": [
  {
   "cell_type": "markdown",
   "metadata": {
    "id": "0ZuDa8qZYhnr"
   },
   "source": [
    " ## Srivathsan B   -  E22034"
   ]
  },
  {
   "cell_type": "markdown",
   "metadata": {
    "id": "qh5-b5MaYiI1"
   },
   "source": [
    "\n",
    "# Multiple Linear Regression:\n",
    "\n",
    "AIM : \n",
    "#### Use cars.csv dataset fit a LR model to predict MPG based in the weight of the cars. \n",
    "            i. Include all 406 observations\n",
    "            ii.Use Solution of MultiVariate Linear Regression."
   ]
  },
  {
   "cell_type": "code",
   "execution_count": 6,
   "metadata": {
    "colab": {
     "base_uri": "https://localhost:8080/"
    },
    "executionInfo": {
     "elapsed": 2167,
     "status": "ok",
     "timestamp": 1654253860062,
     "user": {
      "displayName": "Srivathsan B",
      "userId": "15069704459336375084"
     },
     "user_tz": -330
    },
    "id": "EohyCM5tY6wc",
    "outputId": "86adcd86-92cb-41c6-bcc0-cea4e6f7038c"
   },
   "outputs": [
    {
     "name": "stderr",
     "output_type": "stream",
     "text": [
      "/usr/local/lib/python3.7/dist-packages/statsmodels/tools/_testing.py:19: FutureWarning: pandas.util.testing is deprecated. Use the functions in the public API at pandas.testing instead.\n",
      "  import pandas.util.testing as tm\n"
     ]
    }
   ],
   "source": [
    "# Importing the dependencies \n",
    "\n",
    "import pandas as pd\n",
    "import numpy as np\n",
    "#For linear Regression using the statsmodels package\n",
    "import statsmodels.api as stm # for adding the Intercept and to cross check."
   ]
  },
  {
   "cell_type": "code",
   "execution_count": 2,
   "metadata": {
    "colab": {
     "base_uri": "https://localhost:8080/"
    },
    "executionInfo": {
     "elapsed": 23220,
     "status": "ok",
     "timestamp": 1654251800566,
     "user": {
      "displayName": "Srivathsan B",
      "userId": "15069704459336375084"
     },
     "user_tz": -330
    },
    "id": "GhfHf55TZVSn",
    "outputId": "3c04bd48-8280-470d-ec83-998874e41757"
   },
   "outputs": [
    {
     "name": "stdout",
     "output_type": "stream",
     "text": [
      "Mounted at /content/drive\n"
     ]
    }
   ],
   "source": [
    "# mounting the drive \n",
    "\n",
    "from google.colab import drive\n",
    "drive.mount('/content/drive')"
   ]
  },
  {
   "cell_type": "code",
   "execution_count": 3,
   "metadata": {
    "colab": {
     "base_uri": "https://localhost:8080/",
     "height": 206
    },
    "executionInfo": {
     "elapsed": 728,
     "status": "ok",
     "timestamp": 1654251801278,
     "user": {
      "displayName": "Srivathsan B",
      "userId": "15069704459336375084"
     },
     "user_tz": -330
    },
    "id": "RaiTcqjUY7mc",
    "outputId": "f3bf6fc3-df2e-4c52-b0aa-545a2dbb0f3c"
   },
   "outputs": [
    {
     "data": {
      "text/html": [
       "\n",
       "  <div id=\"df-9f71549d-357c-4044-8de6-054016757004\">\n",
       "    <div class=\"colab-df-container\">\n",
       "      <div>\n",
       "<style scoped>\n",
       "    .dataframe tbody tr th:only-of-type {\n",
       "        vertical-align: middle;\n",
       "    }\n",
       "\n",
       "    .dataframe tbody tr th {\n",
       "        vertical-align: top;\n",
       "    }\n",
       "\n",
       "    .dataframe thead th {\n",
       "        text-align: right;\n",
       "    }\n",
       "</style>\n",
       "<table border=\"1\" class=\"dataframe\">\n",
       "  <thead>\n",
       "    <tr style=\"text-align: right;\">\n",
       "      <th></th>\n",
       "      <th>Car</th>\n",
       "      <th>MPG</th>\n",
       "      <th>Cylinders</th>\n",
       "      <th>Displacement</th>\n",
       "      <th>Horsepower</th>\n",
       "      <th>Weight</th>\n",
       "      <th>Acceleration</th>\n",
       "      <th>Model</th>\n",
       "      <th>Origin</th>\n",
       "    </tr>\n",
       "  </thead>\n",
       "  <tbody>\n",
       "    <tr>\n",
       "      <th>0</th>\n",
       "      <td>Chevrolet Chevelle Malibu</td>\n",
       "      <td>18.0</td>\n",
       "      <td>8</td>\n",
       "      <td>307.0</td>\n",
       "      <td>130</td>\n",
       "      <td>3504</td>\n",
       "      <td>12.0</td>\n",
       "      <td>70</td>\n",
       "      <td>US</td>\n",
       "    </tr>\n",
       "    <tr>\n",
       "      <th>1</th>\n",
       "      <td>Buick Skylark 320</td>\n",
       "      <td>15.0</td>\n",
       "      <td>8</td>\n",
       "      <td>350.0</td>\n",
       "      <td>165</td>\n",
       "      <td>3693</td>\n",
       "      <td>11.5</td>\n",
       "      <td>70</td>\n",
       "      <td>US</td>\n",
       "    </tr>\n",
       "    <tr>\n",
       "      <th>2</th>\n",
       "      <td>Plymouth Satellite</td>\n",
       "      <td>18.0</td>\n",
       "      <td>8</td>\n",
       "      <td>318.0</td>\n",
       "      <td>150</td>\n",
       "      <td>3436</td>\n",
       "      <td>11.0</td>\n",
       "      <td>70</td>\n",
       "      <td>US</td>\n",
       "    </tr>\n",
       "    <tr>\n",
       "      <th>3</th>\n",
       "      <td>AMC Rebel SST</td>\n",
       "      <td>16.0</td>\n",
       "      <td>8</td>\n",
       "      <td>304.0</td>\n",
       "      <td>150</td>\n",
       "      <td>3433</td>\n",
       "      <td>12.0</td>\n",
       "      <td>70</td>\n",
       "      <td>US</td>\n",
       "    </tr>\n",
       "    <tr>\n",
       "      <th>4</th>\n",
       "      <td>Ford Torino</td>\n",
       "      <td>17.0</td>\n",
       "      <td>8</td>\n",
       "      <td>302.0</td>\n",
       "      <td>140</td>\n",
       "      <td>3449</td>\n",
       "      <td>10.5</td>\n",
       "      <td>70</td>\n",
       "      <td>US</td>\n",
       "    </tr>\n",
       "  </tbody>\n",
       "</table>\n",
       "</div>\n",
       "      <button class=\"colab-df-convert\" onclick=\"convertToInteractive('df-9f71549d-357c-4044-8de6-054016757004')\"\n",
       "              title=\"Convert this dataframe to an interactive table.\"\n",
       "              style=\"display:none;\">\n",
       "        \n",
       "  <svg xmlns=\"http://www.w3.org/2000/svg\" height=\"24px\"viewBox=\"0 0 24 24\"\n",
       "       width=\"24px\">\n",
       "    <path d=\"M0 0h24v24H0V0z\" fill=\"none\"/>\n",
       "    <path d=\"M18.56 5.44l.94 2.06.94-2.06 2.06-.94-2.06-.94-.94-2.06-.94 2.06-2.06.94zm-11 1L8.5 8.5l.94-2.06 2.06-.94-2.06-.94L8.5 2.5l-.94 2.06-2.06.94zm10 10l.94 2.06.94-2.06 2.06-.94-2.06-.94-.94-2.06-.94 2.06-2.06.94z\"/><path d=\"M17.41 7.96l-1.37-1.37c-.4-.4-.92-.59-1.43-.59-.52 0-1.04.2-1.43.59L10.3 9.45l-7.72 7.72c-.78.78-.78 2.05 0 2.83L4 21.41c.39.39.9.59 1.41.59.51 0 1.02-.2 1.41-.59l7.78-7.78 2.81-2.81c.8-.78.8-2.07 0-2.86zM5.41 20L4 18.59l7.72-7.72 1.47 1.35L5.41 20z\"/>\n",
       "  </svg>\n",
       "      </button>\n",
       "      \n",
       "  <style>\n",
       "    .colab-df-container {\n",
       "      display:flex;\n",
       "      flex-wrap:wrap;\n",
       "      gap: 12px;\n",
       "    }\n",
       "\n",
       "    .colab-df-convert {\n",
       "      background-color: #E8F0FE;\n",
       "      border: none;\n",
       "      border-radius: 50%;\n",
       "      cursor: pointer;\n",
       "      display: none;\n",
       "      fill: #1967D2;\n",
       "      height: 32px;\n",
       "      padding: 0 0 0 0;\n",
       "      width: 32px;\n",
       "    }\n",
       "\n",
       "    .colab-df-convert:hover {\n",
       "      background-color: #E2EBFA;\n",
       "      box-shadow: 0px 1px 2px rgba(60, 64, 67, 0.3), 0px 1px 3px 1px rgba(60, 64, 67, 0.15);\n",
       "      fill: #174EA6;\n",
       "    }\n",
       "\n",
       "    [theme=dark] .colab-df-convert {\n",
       "      background-color: #3B4455;\n",
       "      fill: #D2E3FC;\n",
       "    }\n",
       "\n",
       "    [theme=dark] .colab-df-convert:hover {\n",
       "      background-color: #434B5C;\n",
       "      box-shadow: 0px 1px 3px 1px rgba(0, 0, 0, 0.15);\n",
       "      filter: drop-shadow(0px 1px 2px rgba(0, 0, 0, 0.3));\n",
       "      fill: #FFFFFF;\n",
       "    }\n",
       "  </style>\n",
       "\n",
       "      <script>\n",
       "        const buttonEl =\n",
       "          document.querySelector('#df-9f71549d-357c-4044-8de6-054016757004 button.colab-df-convert');\n",
       "        buttonEl.style.display =\n",
       "          google.colab.kernel.accessAllowed ? 'block' : 'none';\n",
       "\n",
       "        async function convertToInteractive(key) {\n",
       "          const element = document.querySelector('#df-9f71549d-357c-4044-8de6-054016757004');\n",
       "          const dataTable =\n",
       "            await google.colab.kernel.invokeFunction('convertToInteractive',\n",
       "                                                     [key], {});\n",
       "          if (!dataTable) return;\n",
       "\n",
       "          const docLinkHtml = 'Like what you see? Visit the ' +\n",
       "            '<a target=\"_blank\" href=https://colab.research.google.com/notebooks/data_table.ipynb>data table notebook</a>'\n",
       "            + ' to learn more about interactive tables.';\n",
       "          element.innerHTML = '';\n",
       "          dataTable['output_type'] = 'display_data';\n",
       "          await google.colab.output.renderOutput(dataTable, element);\n",
       "          const docLink = document.createElement('div');\n",
       "          docLink.innerHTML = docLinkHtml;\n",
       "          element.appendChild(docLink);\n",
       "        }\n",
       "      </script>\n",
       "    </div>\n",
       "  </div>\n",
       "  "
      ],
      "text/plain": [
       "                         Car   MPG  Cylinders  Displacement  Horsepower  \\\n",
       "0  Chevrolet Chevelle Malibu  18.0          8         307.0         130   \n",
       "1          Buick Skylark 320  15.0          8         350.0         165   \n",
       "2         Plymouth Satellite  18.0          8         318.0         150   \n",
       "3              AMC Rebel SST  16.0          8         304.0         150   \n",
       "4                Ford Torino  17.0          8         302.0         140   \n",
       "\n",
       "   Weight  Acceleration  Model Origin  \n",
       "0    3504          12.0     70     US  \n",
       "1    3693          11.5     70     US  \n",
       "2    3436          11.0     70     US  \n",
       "3    3433          12.0     70     US  \n",
       "4    3449          10.5     70     US  "
      ]
     },
     "execution_count": 3,
     "metadata": {},
     "output_type": "execute_result"
    }
   ],
   "source": [
    "# reading the data from the google drive and reading as pandas dataset.\n",
    "\n",
    "df = pd.read_csv('/content/drive/MyDrive/AML /cars.csv')\n",
    "df.head() # Shows the first 5 rows of the dataset variable name df"
   ]
  },
  {
   "cell_type": "markdown",
   "metadata": {
    "id": "TBMTAZubIL72"
   },
   "source": [
    "Formula of bo and bl:\n",
    "\n",
    "b0 = "
   ]
  },
  {
   "cell_type": "code",
   "execution_count": 4,
   "metadata": {
    "colab": {
     "base_uri": "https://localhost:8080/"
    },
    "executionInfo": {
     "elapsed": 437,
     "status": "ok",
     "timestamp": 1654251955433,
     "user": {
      "displayName": "Srivathsan B",
      "userId": "15069704459336375084"
     },
     "user_tz": -330
    },
    "id": "AOnMn_Wzatfr",
    "outputId": "9bc9dd39-42ae-4729-c935-5becf8fa0c2c"
   },
   "outputs": [
    {
     "data": {
      "text/plain": [
       "(406, 3)"
      ]
     },
     "execution_count": 4,
     "metadata": {},
     "output_type": "execute_result"
    }
   ],
   "source": [
    "# Seperating the independent and dependent variables \n",
    "X = df[[\"Weight\",\"Horsepower\",\"Displacement\"]] # is taken as X\n",
    "y = df.MPG # is taken as y\n",
    "X.shape"
   ]
  },
  {
   "cell_type": "markdown",
   "metadata": {
    "id": "5A_JcFG-budy"
   },
   "source": [
    "# Formulas to find the Estimated Values:\n",
    "\n",
    "![B Curl.JPG](data:image/jpeg;base64,/9j/4AAQSkZJRgABAQEAYABgAAD/4RDoRXhpZgAATU0AKgAAAAgABAE7AAIAAAAKAAAISodpAAQAAAABAAAIVJydAAEAAAAUAAAQzOocAAcAAAgMAAAAPgAAAAAc6gAAAAgAAAAAAAAAAAAAAAAAAAAAAAAAAAAAAAAAAAAAAAAAAAAAAAAAAAAAAAAAAAAAAAAAAAAAAAAAAAAAAAAAAAAAAAAAAAAAAAAAAAAAAAAAAAAAAAAAAAAAAAAAAAAAAAAAAAAAAAAAAAAAAAAAAAAAAAAAAAAAAAAAAAAAAAAAAAAAAAAAAAAAAAAAAAAAAAAAAAAAAAAAAAAAAAAAAAAAAAAAAAAAAAAAAAAAAAAAAAAAAAAAAAAAAAAAAAAAAAAAAAAAAAAAAAAAAAAAAAAAAAAAAAAAAAAAAAAAAAAAAAAAAAAAAAAAAAAAAAAAAAAAAAAAAAAAAAAAAAAAAAAAAAAAAAAAAAAAAAAAAAAAAAAAAAAAAAAAAAAAAAAAAAAAAAAAAAAAAAAAAAAAAAAAAAAAAAAAAAAAAAAAAAAAAAAAAAAAAAAAAAAAAAAAAAAAAAAAAAAAAAAAAAAAAAAAAAAAAAAAAAAAAAAAAAAAAAAAAAAAAAAAAAAAAAAAAAAAAAAAAAAAAAAAAAAAAAAAAAAAAAAAAAAAAAAAAAAAAAAAAAAAAAAAAAAAAAAAAAAAAAAAAAAAAAAAAAAAAAAAAAAAAAAAAAAAAAAAAAAAAAAAAAAAAAAAAAAAAAAAAAAAAAAAAAAAAAAAAAAAAAAAAAAAAAAAAAAAAAAAAAAAAAAAAAAAAAAAAAAAAAAAAAAAAAAAAAAAAAAAAAAAAAAAAAAAAAAAAAAAAAAAAAAAAAAAAAAAAAAAAAAAAAAAAAAAAAAAAAAAAAAAAAAAAAAAAAAAAAAAAAAAAAAAAAAAAAAAAAAAAAAAAAAAAAAAAAAAAAAAAAAAAAAAAAAAAAAAAAAAAAAAAAAAAAAAAAAAAAAAAAAAAAAAAAAAAAAAAAAAAAAAAAAAAAAAAAAAAAAAAAAAAAAAAAAAAAAAAAAAAAAAAAAAAAAAAAAAAAAAAAAAAAAAAAAAAAAAAAAAAAAAAAAAAAAAAAAAAAAAAAAAAAAAAAAAAAAAAAAAAAAAAAAAAAAAAAAAAAAAAAAAAAAAAAAAAAAAAAAAAAAAAAAAAAAAAAAAAAAAAAAAAAAAAAAAAAAAAAAAAAAAAAAAAAAAAAAAAAAAAAAAAAAAAAAAAAAAAAAAAAAAAAAAAAAAAAAAAAAAAAAAAAAAAAAAAAAAAAAAAAAAAAAAAAAAAAAAAAAAAAAAAAAAAAAAAAAAAAAAAAAAAAAAAAAAAAAAAAAAAAAAAAAAAAAAAAAAAAAAAAAAAAAAAAAAAAAAAAAAAAAAAAAAAAAAAAAAAAAAAAAAAAAAAAAAAAAAAAAAAAAAAAAAAAAAAAAAAAAAAAAAAAAAAAAAAAAAAAAAAAAAAAAAAAAAAAAAAAAAAAAAAAAAAAAAAAAAAAAAAAAAAAAAAAAAAAAAAAAAAAAAAAAAAAAAAAAAAAAAAAAAAAAAAAAAAAAAAAAAAAAAAAAAAAAAAAAAAAAAAAAAAAAAAAAAAAAAAAAAAAAAAAAAAAAAAAAAAAAAAAAAAAAAAAAAAAAAAAAAAAAAAAAAAAAAAAAAAAAAAAAAAAAAAAAAAAAAAAAAAAAAAAAAAAAAAAAAAAAAAAAAAAAAAAAAAAAAAAAAAAAAAAAAAAAAAAAAAAAAAAAAAAAAAAAAAAAAAAAAAAAAAAAAAAAAAAAAAAAAAAAAAAAAAAAAAAAAAAAAAAAAAAAAAAAAAAAAAAAAAAAAAAAAAAAAAAAAAAAAAAAAAAAAAAAAAAAAAAAAAAAAAAAAAAAAAAAAAAAAAAAAAAAAAAAAAAAAAAAAAAAAAAAAAAAAAAAAAAAAAAAAAAAAAAAAAAAAAAAAAAAAAAAAAAAAAAAAAAAAAAAAAAAAAAAAAAAAAAAAAAAAAAAAAAAAAAAAAAAAAAAAAAAAAAAAAAAAAAAAAAAAAAAAAAAAAAAAAAAAAAAAAAAAAAAAAAAAAAAAAAAAAAAAAAAAAAAAAAAAAAAAAAAAAAAAAAAAAAAAAAAAAAAAAAAAAAAAAAAAAAAAAAAAAAAAAAAAAAAAAAAAAAAAAAAAAAAAAAAAAAAAAAAAAAAAAAAAAAAAAAAAAAAAAAAAAAAAAAAAAAAAAAAAAAAAAAAAAAAAAAAAAAAAAAAAAAAAAAAAAAAAAAAAAAAAAAAAAAAAAAAAAAAAAAAAAAAAAAAAAAAAAAAAAAAAAAAAAAAAAAAAAAAAAAAAAAAAAAAAAAAAAAAAAAAAAAAAAAAAAAAAAAAAAAAAAAAAAAAAAAAAAAAAAAAAAAAAAAAAAAAAAAAAAAAAAAAAAAAAAAAAAAAAAAAAAAAAAAAAAAAAAAAAAAAAAAAAAAAAAAAAAAAAAAAAAAAAAAAAAAAAAAAAAAAAAAAAAAAAAAAAAAAAAAAAAAAAAAAAAAAAAAAAAAAAAAAAAAAAAAAAAAAAAAAAAAAAAAAAAAAAAAAAAAAAAAAAAAAAAAAAAAAAAAAAAAAAAAAAAAAAAAAAAAAAAAAAAAAAAAAAAAAAAAAAAAAAAAAAAAAAAAAAAAAAAAAAAAAAAAAAAAAAAAAAAAAAAAAAAAAAAAAAAAAAAAAAAAAAAAAAAAAAAAAAAAAAAAAAAAAAAAAAAAAAAAAAAAAAAAAAAAAAAAAAAAAAAAAAAAAAAAAAAAAAAAAAAAAAAAAAAAAAAAAAAAAAAAAAAAAAAAAAAAAAAAAAAAAAAAAAAAAAAAAAAAAAAAAAAAAAAAAAAAAAAAAAAAAAAFNBUkFOWUEgQgAABZADAAIAAAAUAAAQopAEAAIAAAAUAAAQtpKRAAIAAAADMjQAAJKSAAIAAAADMjQAAOocAAcAAAgMAAAIlgAAAAAc6gAAAAgAAAAAAAAAAAAAAAAAAAAAAAAAAAAAAAAAAAAAAAAAAAAAAAAAAAAAAAAAAAAAAAAAAAAAAAAAAAAAAAAAAAAAAAAAAAAAAAAAAAAAAAAAAAAAAAAAAAAAAAAAAAAAAAAAAAAAAAAAAAAAAAAAAAAAAAAAAAAAAAAAAAAAAAAAAAAAAAAAAAAAAAAAAAAAAAAAAAAAAAAAAAAAAAAAAAAAAAAAAAAAAAAAAAAAAAAAAAAAAAAAAAAAAAAAAAAAAAAAAAAAAAAAAAAAAAAAAAAAAAAAAAAAAAAAAAAAAAAAAAAAAAAAAAAAAAAAAAAAAAAAAAAAAAAAAAAAAAAAAAAAAAAAAAAAAAAAAAAAAAAAAAAAAAAAAAAAAAAAAAAAAAAAAAAAAAAAAAAAAAAAAAAAAAAAAAAAAAAAAAAAAAAAAAAAAAAAAAAAAAAAAAAAAAAAAAAAAAAAAAAAAAAAAAAAAAAAAAAAAAAAAAAAAAAAAAAAAAAAAAAAAAAAAAAAAAAAAAAAAAAAAAAAAAAAAAAAAAAAAAAAAAAAAAAAAAAAAAAAAAAAAAAAAAAAAAAAAAAAAAAAAAAAAAAAAAAAAAAAAAAAAAAAAAAAAAAAAAAAAAAAAAAAAAAAAAAAAAAAAAAAAAAAAAAAAAAAAAAAAAAAAAAAAAAAAAAAAAAAAAAAAAAAAAAAAAAAAAAAAAAAAAAAAAAAAAAAAAAAAAAAAAAAAAAAAAAAAAAAAAAAAAAAAAAAAAAAAAAAAAAAAAAAAAAAAAAAAAAAAAAAAAAAAAAAAAAAAAAAAAAAAAAAAAAAAAAAAAAAAAAAAAAAAAAAAAAAAAAAAAAAAAAAAAAAAAAAAAAAAAAAAAAAAAAAAAAAAAAAAAAAAAAAAAAAAAAAAAAAAAAAAAAAAAAAAAAAAAAAAAAAAAAAAAAAAAAAAAAAAAAAAAAAAAAAAAAAAAAAAAAAAAAAAAAAAAAAAAAAAAAAAAAAAAAAAAAAAAAAAAAAAAAAAAAAAAAAAAAAAAAAAAAAAAAAAAAAAAAAAAAAAAAAAAAAAAAAAAAAAAAAAAAAAAAAAAAAAAAAAAAAAAAAAAAAAAAAAAAAAAAAAAAAAAAAAAAAAAAAAAAAAAAAAAAAAAAAAAAAAAAAAAAAAAAAAAAAAAAAAAAAAAAAAAAAAAAAAAAAAAAAAAAAAAAAAAAAAAAAAAAAAAAAAAAAAAAAAAAAAAAAAAAAAAAAAAAAAAAAAAAAAAAAAAAAAAAAAAAAAAAAAAAAAAAAAAAAAAAAAAAAAAAAAAAAAAAAAAAAAAAAAAAAAAAAAAAAAAAAAAAAAAAAAAAAAAAAAAAAAAAAAAAAAAAAAAAAAAAAAAAAAAAAAAAAAAAAAAAAAAAAAAAAAAAAAAAAAAAAAAAAAAAAAAAAAAAAAAAAAAAAAAAAAAAAAAAAAAAAAAAAAAAAAAAAAAAAAAAAAAAAAAAAAAAAAAAAAAAAAAAAAAAAAAAAAAAAAAAAAAAAAAAAAAAAAAAAAAAAAAAAAAAAAAAAAAAAAAAAAAAAAAAAAAAAAAAAAAAAAAAAAAAAAAAAAAAAAAAAAAAAAAAAAAAAAAAAAAAAAAAAAAAAAAAAAAAAAAAAAAAAAAAAAAAAAAAAAAAAAAAAAAAAAAAAAAAAAAAAAAAAAAAAAAAAAAAAAAAAAAAAAAAAAAAAAAAAAAAAAAAAAAAAAAAAAAAAAAAAAAAAAAAAAAAAAAAAAAAAAAAAAAAAAAAAAAAAAAAAAAAAAAAAAAAAAAAAAAAAAAAAAAAAAAAAAAAAAAAAAAAAAAAAAAAAAAAAAAAAAAAAAAAAAAAAAAAAAAAAAAAAAAAAAAAAAAAAAAAAAAAAAAAAAAAAAAAAAAAAAAAAAAAAAAAAAAAAAAAAAAAAAAAAAAAAAAAAAAAAAAAAAAAAAAAAAAAAAAAAAAAAAAAAAAAAAAAAAAAAAAAAAAAAAAAAAAAAAAAAAAAAAAAAAAAAAAAAAAAAAAAAAAAAAAAAAAAAAAAAAAAAAAAAAAAAAAAAAAAAAAAAAAAAAAAAAAAAAAAAAAAAAAAAAAAAAAAAAAAAAAAAAAAAAAAAAAAAAAAAAAAAAAAAAAAAAAAAAAAAAAAAAAAAAAAAAAAAAAAAAAAAAAAAAAAAAAAAAAAAAAAAAAAAAAAAAAAAAAAAAAAAAAAAAAAAAAAAAAAAAAAAAAAAAAAAAAAAAAAAAAAAAAAAAAAAAAAAAAAAAAAAAAAAAAAAAAAAAAAAAAAAAAAAAAAAAAAAAAAAAAAAAAAAAAAAAAAAAAAAAAAAAAAAAAAAAAAAAAAAAAAAAAAAAAAAAAAAAAAAAAAAAAAAAAAAAAAAAAAAAAAAAAAAAAAAAAAAAAAAAAAAAAAAAAAAAAAAAAAAAAAAAAAAAAAAAAAAAAAAAAAAAAAAAAAAAAAAAAAAAAAAAAAAAAAAAAAAAAAAAAAAAAAAAAAAAAAAAAAAAAAAAAAAAAAAAAAAAAAAAAAAAAAAAAAAAAAAAAAAAAAAAAAAAAAAAAAAAAAAAAAAAAAAAAAAAAAAAAAAAAAAAAAAAAAAAAAAAAAAAAAAAAAAAAAAAAAAAAAAAAAAAAAAAAAAAAAAAAAAAAAAAAAAAAAAAAAAAAAAAAAAAAAAAAAAAAAAAAAAAAAAAAAAAAAAAAAAAAAAAAAAAAAAAAAAAAAAAAAAAAAAAAAAAAAAAAAAAAAAAAAAAAAAAAAAAAAAAAAAADIwMjI6MDY6MDMgMTY6MDA6NDQAMjAyMjowNjowMyAxNjowMDo0NAAAAFMAQQBSAEEATgBZAEEAIABCAAAA/+ELHGh0dHA6Ly9ucy5hZG9iZS5jb20veGFwLzEuMC8APD94cGFja2V0IGJlZ2luPSfvu78nIGlkPSdXNU0wTXBDZWhpSHpyZVN6TlRjemtjOWQnPz4NCjx4OnhtcG1ldGEgeG1sbnM6eD0iYWRvYmU6bnM6bWV0YS8iPjxyZGY6UkRGIHhtbG5zOnJkZj0iaHR0cDovL3d3dy53My5vcmcvMTk5OS8wMi8yMi1yZGYtc3ludGF4LW5zIyI+PHJkZjpEZXNjcmlwdGlvbiByZGY6YWJvdXQ9InV1aWQ6ZmFmNWJkZDUtYmEzZC0xMWRhLWFkMzEtZDMzZDc1MTgyZjFiIiB4bWxuczpkYz0iaHR0cDovL3B1cmwub3JnL2RjL2VsZW1lbnRzLzEuMS8iLz48cmRmOkRlc2NyaXB0aW9uIHJkZjphYm91dD0idXVpZDpmYWY1YmRkNS1iYTNkLTExZGEtYWQzMS1kMzNkNzUxODJmMWIiIHhtbG5zOnhtcD0iaHR0cDovL25zLmFkb2JlLmNvbS94YXAvMS4wLyI+PHhtcDpDcmVhdGVEYXRlPjIwMjItMDYtMDNUMTY6MDA6NDQuMjQxPC94bXA6Q3JlYXRlRGF0ZT48L3JkZjpEZXNjcmlwdGlvbj48cmRmOkRlc2NyaXB0aW9uIHJkZjphYm91dD0idXVpZDpmYWY1YmRkNS1iYTNkLTExZGEtYWQzMS1kMzNkNzUxODJmMWIiIHhtbG5zOmRjPSJodHRwOi8vcHVybC5vcmcvZGMvZWxlbWVudHMvMS4xLyI+PGRjOmNyZWF0b3I+PHJkZjpTZXEgeG1sbnM6cmRmPSJodHRwOi8vd3d3LnczLm9yZy8xOTk5LzAyLzIyLXJkZi1zeW50YXgtbnMjIj48cmRmOmxpPlNBUkFOWUEgQjwvcmRmOmxpPjwvcmRmOlNlcT4NCgkJCTwvZGM6Y3JlYXRvcj48L3JkZjpEZXNjcmlwdGlvbj48L3JkZjpSREY+PC94OnhtcG1ldGE+DQogICAgICAgICAgICAgICAgICAgICAgICAgICAgICAgICAgICAgICAgICAgICAgICAgICAgICAgICAgICAgICAgICAgICAgICAgICAgICAgICAgICAgICAgICAgICAgICAgICAgCiAgICAgICAgICAgICAgICAgICAgICAgICAgICAgICAgICAgICAgICAgICAgICAgICAgICAgICAgICAgICAgICAgICAgICAgICAgICAgICAgICAgICAgICAgICAgICAgICAgICAKICAgICAgICAgICAgICAgICAgICAgICAgICAgICAgICAgICAgICAgICAgICAgICAgICAgICAgICAgICAgICAgICAgICAgICAgICAgICAgICAgICAgICAgICAgICAgICAgICAgIAogICAgICAgICAgICAgICAgICAgICAgICAgICAgICAgICAgICAgICAgICAgICAgICAgICAgICAgICAgICAgICAgICAgICAgICAgICAgICAgICAgICAgICAgICAgICAgICAgICAgCiAgICAgICAgICAgICAgICAgICAgICAgICAgICAgICAgICAgICAgICAgICAgICAgICAgICAgICAgICAgICAgICAgICAgICAgICAgICAgICAgICAgICAgICAgICAgICAgICAgICAKICAgICAgICAgICAgICAgICAgICAgICAgICAgICAgICAgICAgICAgICAgICAgICAgICAgICAgICAgICAgICAgICAgICAgICAgICAgICAgICAgICAgICAgICAgICAgICAgICAgIAogICAgICAgICAgICAgICAgICAgICAgICAgICAgICAgICAgICAgICAgICAgICAgICAgICAgICAgICAgICAgICAgICAgICAgICAgICAgICAgICAgICAgICAgICAgICAgICAgICAgCiAgICAgICAgICAgICAgICAgICAgICAgICAgICAgICAgICAgICAgICAgICAgICAgICAgICAgICAgICAgICAgICAgICAgICAgICAgICAgICAgICAgICAgICAgICAgICAgICAgICAKICAgICAgICAgICAgICAgICAgICAgICAgICAgICAgICAgICAgICAgICAgICAgICAgICAgICAgICAgICAgICAgICAgICAgICAgICAgICAgICAgICAgICAgICAgICAgICAgICAgIAogICAgICAgICAgICAgICAgICAgICAgICAgICAgICAgICAgICAgICAgICAgICAgICAgICAgICAgICAgICAgICAgICAgICAgICAgICAgICAgICAgICAgICAgICAgICAgICAgICAgCiAgICAgICAgICAgICAgICAgICAgICAgICAgICAgICAgICAgICAgICAgICAgICAgICAgICAgICAgICAgICAgICAgICAgICAgICAgICAgICAgICAgICAgICAgICAgICAgICAgICAKICAgICAgICAgICAgICAgICAgICAgICAgICAgICAgICAgICAgICAgICAgICAgICAgICAgICAgICAgICAgICAgICAgICAgICAgICAgICAgICAgICAgICAgICAgICAgICAgICAgIAogICAgICAgICAgICAgICAgICAgICAgICAgICAgICAgICAgICAgICAgICAgICAgICAgICAgICAgICAgICAgICAgICAgICAgICAgICAgICAgICAgICAgICAgICAgICAgICAgICAgCiAgICAgICAgICAgICAgICAgICAgICAgICAgICAgICAgICAgICAgICAgICAgICAgICAgICAgICAgICAgICAgICAgICAgICAgICAgICAgICAgICAgICAgICAgICAgICAgICAgICAKICAgICAgICAgICAgICAgICAgICAgICAgICAgICAgICAgICAgICAgICAgICAgICAgICAgICAgICAgICAgICAgICAgICAgICAgICAgICAgICAgICAgICAgICAgICAgICAgICAgIAogICAgICAgICAgICAgICAgICAgICAgICAgICAgICAgICAgICAgICAgICAgICAgICAgICAgICAgICAgICAgICAgICAgICAgICAgICAgICAgICAgICAgICAgICAgICAgICAgICAgCiAgICAgICAgICAgICAgICAgICAgICAgICAgICAgICAgICAgICAgICAgICAgICAgICAgICAgICAgICAgICAgICAgICAgICAgICAgICAgICAgICAgICAgICAgICAgICAgICAgICAKICAgICAgICAgICAgICAgICAgICAgICAgICAgICAgICAgICAgICAgICAgICAgICAgICAgICAgICAgICAgICAgICAgICAgICAgICAgICAgICAgICAgICAgICAgICAgICAgICAgIAogICAgICAgICAgICAgICAgICAgICAgICAgICAgICAgICAgICAgICAgICAgICAgICAgICAgICAgICAgICAgICAgICAgICAgICAgICAgICAgICAgICAgICAgICAgICAgICAgICAgCiAgICAgICAgICAgICAgICAgICAgICAgICAgICAgICAgICAgICAgICAgICAgICAgICAgICAgICAgICAgICAgICAgICAgICAgICAgICAgICAgICAgICAgICAgICAgICAgICAgICAKICAgICAgICAgICAgICAgICAgICAgICAgICAgIDw/eHBhY2tldCBlbmQ9J3cnPz7/2wBDAAcFBQYFBAcGBQYIBwcIChELCgkJChUPEAwRGBUaGRgVGBcbHichGx0lHRcYIi4iJSgpKywrGiAvMy8qMicqKyr/2wBDAQcICAoJChQLCxQqHBgcKioqKioqKioqKioqKioqKioqKioqKioqKioqKioqKioqKioqKioqKioqKioqKioqKir/wAARCABPAWoDASIAAhEBAxEB/8QAHwAAAQUBAQEBAQEAAAAAAAAAAAECAwQFBgcICQoL/8QAtRAAAgEDAwIEAwUFBAQAAAF9AQIDAAQRBRIhMUEGE1FhByJxFDKBkaEII0KxwRVS0fAkM2JyggkKFhcYGRolJicoKSo0NTY3ODk6Q0RFRkdISUpTVFVWV1hZWmNkZWZnaGlqc3R1dnd4eXqDhIWGh4iJipKTlJWWl5iZmqKjpKWmp6ipqrKztLW2t7i5usLDxMXGx8jJytLT1NXW19jZ2uHi4+Tl5ufo6erx8vP09fb3+Pn6/8QAHwEAAwEBAQEBAQEBAQAAAAAAAAECAwQFBgcICQoL/8QAtREAAgECBAQDBAcFBAQAAQJ3AAECAxEEBSExBhJBUQdhcRMiMoEIFEKRobHBCSMzUvAVYnLRChYkNOEl8RcYGRomJygpKjU2Nzg5OkNERUZHSElKU1RVVldYWVpjZGVmZ2hpanN0dXZ3eHl6goOEhYaHiImKkpOUlZaXmJmaoqOkpaanqKmqsrO0tba3uLm6wsPExcbHyMnK0tPU1dbX2Nna4uPk5ebn6Onq8vP09fb3+Pn6/9oADAMBAAIRAxEAPwD6RooooAKKKKACiiigAooooAKKKKACiiigAooooAKKKKACiiq19qNjpdv9o1O8t7OHcF8y4lWNcntkkDNAFmisX/hM/C//AEMmkf8AgdF/8VV7T9X03VkdtK1C1vljIDm2nWQKT0ztJxQBcooooAKKKKACiiigAooooAKKKKACiiigAoqKa5gtvL+0Txxea4jj8xwu9j0UZ6k+lS0AFFFFABRRRQAUVl3XijQLG6e2vtc022njOHimu40Ze/IJyKh/4TPwv/0Mmkf+B0X/AMVQBtUUAhlBU5B5BHeigAooooAKKKKACiiigArzqz+JmrS/GAeA73wzDC4ha4e+h1IyqsW0lW2GJTknAxngnv39FrwHwn4kg/4XN458UfZZ9TvprkaPpVja4Mtx5QAkIyQFQCONixIA3c8kZAPfqK878GfFZ/EPje/8IeIfD03h7XLSPzVt5LlZ1kTAPDqAM4YHjIxnmvRKACiqmq6pZ6JpF1qeqTeRZ2kTTTy7S2xFGScKCT+Argf+Gg/hj/0M3/khc/8AxugD0mivNv8AhoP4Y/8AQzf+SFz/APG63PCnxS8HeN9Vk03wxrH267ihM7x/ZZo8IGVScugHVl4znmgDraKKKACuR8SfEKy0XWo9A0uxutd8QSp5i6bY4zEn9+VyQsa8jk88jjmtHxt4kj8IeCdW16VQ32G3Z0RjgPIeEX8WKj8a5P4H6A9l4ETxDqjG41vxGx1C9unHzOGJMa/QKQcdMsaAO+e7uIdGN3JYSyXKweY1nburOWxkopYqpOeASQDXD+BvjJpHxA16XS9D0TXI3twTcz3UESR2/XAfEpOSRgAAnPsCR6HXz62qWPwf/aM1yfVZPsuheIbB70Pt4Eoy5A9SWWQAesiigD0Xxv8AFvSvAWv2ekaroutXc9+oNq1jBFIsxzjaoMgbdkgYx3FbOs+GbLxvb6Hca5bXEMNjcrf/ANnXAQ7pAhCrKAWB27icAkZ9RXL+BPDl/wCJPEjfEbxnbGG+nj8vR9OkH/IOtjnBI/56MCSfTJHfA9D1HUbPSNNn1DU7mO1tLdC8s0rBVQe5NAHkvha0tfEP7Svi3UPs8T2uhWEOnRLsG0O+GY49QVkH416H4V8Haf4Rk1h9O5OrahJfyDaFCFgBsUD+EY/U157+zpeW2r+H/EeufaIpNQ1XWZbq5hDgvCrcoGHUc7yP06V7FQAUUVk674lsNA0DVNWnLXMWlRGS6htSrSKAobGCQAdpBwSOKANaiqOn6xaajZWFwj+S2oW63EMEzBZSpUMflyeRuGcZxV6gChrmq/2Jod1qX2G7vxap5jW9mqtK6jrtDMoOBk4znjjJwDynw++LGlfEme5XQdI1eGC1H726u4okjDHonyyMSxHPA7c44ruq+c/DHiGy+CnxQ8c6FqiyDTrhF1DTIY1y0zE/JFGO7HzNv/bM0Ael+JPjDpnhnxxF4UudA1671O4CNbLZwQus6tnDLmUHGQwOQMbT25rS8S+PW8I3kM2u6FfRaHIieZq0RWVbZznKyxqSyqOBvGRk1mfDvwffx6ld+NvGaK3ibVlGIeq6dB/DAnvjG4+v4k99cW8N3bS291Ek0MyFJI5F3K6kYIIPUEdqAG2l3b39nDd2U8dxbzoJIpY2DK6kZBBHUVW1DXdJ0mRE1XVLKyeQZRbm4SMsPUbiM15X8JbyXwl8RvFHwymkZ7Kyf7fpO8k+XA+GMee+PMX8d5716Vrfg/w74lmil8QaLY6lJCpWNrmFXKA8kDPSgBP+Ez8L/wDQyaR/4HRf/FVftNQtNWsnm0m/t7mM5QTW8iyqrY9QcZGRxXO/8Kq8Bf8AQoaP/wCAaf4VvaNoWleHrE2Whafb6falzIYbeMIu44ycDvwKAPD/AB/4cl0T4wfDO5vdZv8AV7691KT7RNdOAg2tDgRxj5Y1+c8D2ySea9/rwX4u+LPD83xa+G7wa3p8senahK948dyjLbqzQ4LkHC/dbr6V7lY6jZapai50y8gvICSBLbyrIpP1BIoAsVxXxC+J+mfDaO1n1zStVuLW6OxLmyiidA/J2HdIpBwCemMd+DXa1xvxZ8Lf8Jh8MNY0uNN9yITcWoHXzY/mUD642/8AAqANjRfEf9ueE49et9I1GFJoDPBZzrGs8q4yuAHKgt23MOvOK5vwJ8XdL+IepT2mhaHrkcdt/r7q6giSGI9lJEhOTjoAfy5rzzwn8RdU8X/C/wAPeDPCMhHiS5tjaXt2QSunW0fyGZj/AHmTbt75PrjPs/hHwppngrwza6JokWy3txyzfelc/edj3Y//AFhwKAOG+IGi6V4E+GvjnXox5+oav5kj3M6qZFeXESIpx91N3A+pqXQvhfperfBTw74d1SFITHDbXczLEpbzNwldcn1LMpPoTWJ+0RrmnS2fh3wjc38EB1PVYGvQ0gHlWwbBd/7q5IOT/dPpXs8RjaFDCVMZUFCnQjtj2oAdRRXMeL/F9z4eaGz0bQrvX9WnieaOzt3EarGmNzvI3CjJAA5JJ4BoA6eiuR+GnxBs/iT4TGs2ds1nJHM0FxbM+8xOADw2BkEMDnArIsfifqNx8ZpfANz4aSMwxtO+oQ35kVYtm5GKGNcZyqkZ4LdTQB6LRRRQAUUUUAZ/iDVY9C8N6lq02Nljay3DZ77FLY/SvJv2afC6WfgefxTeAyajrc8h81xyIlbGPxdWJ9fl9K7f4saNrXiL4a6no3hmFZb6+8uEb5FQKhkXeST22g+/PFYng8eM/CPw9sPDcfg83GpWMRhju1voBZtySHY7/NHUEgR59+9AHN2iHWf2x7ye0y0Wj6WFuHAyoYxgYz6/vR+Rr3GuK+HHgA+DLS/vNTul1DX9YnNzqV6q4VmJJCIDyEGTj1yenAHa0AVNV1Sz0TSLrU9Um8iztImmnl2ltiKMk4UEn8BXA/8ADQfwx/6Gb/yQuf8A43XpNFAHm3/DQfwx/wChm/8AJC5/+N1ueFPil4O8b6rJpvhjWPt13FCZ3j+yzR4QMqk5dAOrLxnPNdbRQAUUUUAeU/tJSOnwWvlQ4El1Ar+43g/zAru/BShPAPh9VAVRplsAAOAPKWsn4s+GpvFvws1vSbRS908AmgUdWkjYOFHudu38arfBjxDF4j+EehzxybprS3WyuATllkiATn3ICt9GFAHa3V1BZWk11eSpBbwoZJZZGwqKBkknsAK+Z/iq2t+PdBb4lWMIt9E0G5RdJhmgBe7j8wCS4YddpcJgHsGPHU938WrHx94u1W00HSvDFxJ4UjuYn1GWO+t45b9AwLIoMgKrjOM4JOM4xXc+ONNmn+Gmp6NomiPfPc2L2dvZQvFEI9yFVOXZVCrx0JPHANAGx4f1m38ReG9O1mz/ANRfWyToD1UMoOD7jp+FX5I0ljKSoroeqsMg15h8CtK8YeGfCLeHPGWiyWaWkjPZ3H2mGVWRjkx4RyQQxY5xjB9q9RoAjit4bfPkQxxbuuxQM/lUlFFABXg3xThhu5vFr+DtFu7C7tbCUa7q7loLWdPKJ8ryyCJpGB4YAbcg7q95qnq+k2WvaPdaXqsJnsruMxTRB2Tep6jKkEfgaAPIvhdptrpvimxbxbpmpXfim6s99lrUzG4tWg8v7sLKAIcKcFWAPzY3HcM+01BZWcGnafb2Vmnl29tEsMSbi21FGAMnk8DqanoAp6vq1joWkXOqarcJbWdrGZJpX6KB/M9gO5r5p8fza/c32ifGbULIQWMGpQR2WmtEpkWyUl0kkP8Aec7uO24YNd3430vx141+Iek2l/4Tn/4QjT7xZJ4he2269IPEjr5n3AcYTrjOeSAOu+L+j6l4g+GmoaHoeiyardXoWONEmiiWEqwYOTIy8Db0GTn25oA7S1uYry0hubZxJDMiyRuOjKRkH8jUtcF8HbfxTpfgK10TxppElhdaYoghlNxFKs8WTtx5bHBUYXnHGMZ5x3tAHid/iL9sjTPLJXzdFbzMH73yyf8AxI/KvbK8U8ERf8Jj+0j4p8VwYfTdHhGm28oHDy4Ctg98bZOnZl/H2ugAooooAr/2fZHraQf9+l/wqWKKOFNkMaxr12ouBT6KACuO+IPjWXwzZ2umaHAL7xLq7mDTLP8A2u8r+iL1J/8ArkdHrN5e2Gj3NzpemyapeRr+5s45UjMrZxjc5Cgc5JJ6A4BOAfM/hV4e8Wjxpr/ib4kaI1vq96qpaXH2iGWKCAE5hQI7Mvbtzjk5zkA5f4SafP8ADT43614K1WaO4fVrKO7guliCCV1UswUdl+aXj/Yr6CrxD4r+GvG+rfFPw/4i8F+GZZm0PG66e8t4xcjcG2ANJuC4LqcgfePHc+02c0tzYwzXFrJaSyIGe3lZWaIkcqSpKkjpwSKACSztpn3zW8Ujf3mQE1MAFUBRgDgAdqKKACiiigDw34Nyw+E/iB8S9DvZFt7Oxu/tyM/Ajiy5LHtjYY66X4S6XLql9rnxE1GIx3PiWfNmjj5orJPliz7sACfYKa4nWvCU/jD9pLXbLR7sjR7ixt08RPE3QDYfIyOjN5SA47F/cV9AQwx28EcMEaxxRqEREGAqgYAA9KAH0UUUAFFFFAHLv4muofixH4YmSBLG40Y3sEhVvMeZZtroDnGApU4xnqc4rqK434ifDq28fWVmyalc6PqunSNJY6laH95CWGGHBBIOB0IPA565811f4Q+I/B9omteH/Fet614gvpBp17PKrODbzZQyBQWcGMsHyWIG3PFAHvFxcRWlrLc3MixwwoZJHboqgZJP4Vz/AMPvEN74s8AaVrupwRW9zfRGVooQQqjcQuMknoBXmsn7N/lxrp9h4+16DQpP+PrTnbcJu55DKoyfVGr2XTdOtdI0q107T4hDa2kKwwxj+FFGAPyFAFmiiigAooooAKKKKACvN5/A+t+DvFF74h+HJtprbUn8zUdAu38qKV/+ekLgHy39QRg5PsB6RRQBHbSSS2sUk8JgldAzxFg3lsRyuRwcHjIqSiigAooooAKKKKACiiigAooooAKKKKACuN8aW/jTWpW0Pwv9m0ixnjH2jXJZt8qKchkiiHO//aJA5456dlRQBieEPCWl+CfDVvomiRlLeHLM7nLyufvOx7k/4AcAVt0UUAFFFFABRRRQAUUUUAFFFFABRRRQAV5Bret/ErxT411Sy+HU9jF4diJ06bUbpFBtbmMkTFFOHLDOOVZTt49a9frxnWdS8a/C7xhrTeHvCFx4o0PXbr7dD9kZt9rcOoEgbarHaSobkAc9c5oA9G8FeDdP8D+Hk0zTi80jOZrq7mOZbqZvvSOe5P6DFaWta1p/h7SZtT1m5FtZwlRJKVLYLMFXgAk5ZgPxryA/Ff4jRRnQrnwTbx+MbqRZrC03/uXtSHLOx343Ls2kFl5ccDoa15rXxC+KF7YeFNW8DXHh3TkvIZ9WvZ2Zo5Y43D7UJUA5KjoW5x0GaAPdqKKKACiiigAooooAKKKKACiiigAooooAKKKKACiiigAooooAKKKKACiiigAooooAKKKKACiiigAooooAKKKKACiiigAooooAKKKKACiiigAooooAKKKKAKEuiadN4gt9bktg2o28D28U+9vljcgsuM4OSo5IzV+iigAooooA/9k=)"
   ]
  },
  {
   "cell_type": "markdown",
   "metadata": {
    "id": "32X9W2cDPmh9"
   },
   "source": [
    "#### We Need to Solve for b(Curl) to get the coefficients. "
   ]
  },
  {
   "cell_type": "markdown",
   "metadata": {
    "id": "8FhXvtFnQdoc"
   },
   "source": [
    "## Fitting a Multiple  Linear regression model to predict MPG based on the X Variables. \n"
   ]
  },
  {
   "cell_type": "markdown",
   "metadata": {
    "id": "FFxO8bkHKyyN"
   },
   "source": [
    "### The LR Model is \n",
    "\n",
    "## yi = bo + b1*X1i + b2*X2i + b3*X3i + Ei => i = 1(1)n"
   ]
  },
  {
   "cell_type": "markdown",
   "metadata": {
    "id": "DGHxKZthMrQ9"
   },
   "source": [
    "# The above equation represents \n",
    "\n",
    "MPGi = bo + b1*Weighti + b2*Horsepower + b3*Displacement + Ei , => i = 1(1)n\n",
    "\n",
    "b(curl) = (bo, b1, b2, b3)"
   ]
  },
  {
   "cell_type": "code",
   "execution_count": 7,
   "metadata": {
    "colab": {
     "base_uri": "https://localhost:8080/",
     "height": 261
    },
    "executionInfo": {
     "elapsed": 477,
     "status": "ok",
     "timestamp": 1654253927686,
     "user": {
      "displayName": "Srivathsan B",
      "userId": "15069704459336375084"
     },
     "user_tz": -330
    },
    "id": "ydtVzQIrLHf8",
    "outputId": "88ef2ae3-0982-4808-9ca1-70753c235dd7"
   },
   "outputs": [
    {
     "name": "stderr",
     "output_type": "stream",
     "text": [
      "/usr/local/lib/python3.7/dist-packages/statsmodels/tsa/tsatools.py:117: FutureWarning: In a future version of pandas all arguments of concat except for the argument 'objs' will be keyword-only\n",
      "  x = pd.concat(x[::order], 1)\n"
     ]
    },
    {
     "data": {
      "text/html": [
       "\n",
       "  <div id=\"df-0d249698-44b7-46a9-864d-a5590860dc0f\">\n",
       "    <div class=\"colab-df-container\">\n",
       "      <div>\n",
       "<style scoped>\n",
       "    .dataframe tbody tr th:only-of-type {\n",
       "        vertical-align: middle;\n",
       "    }\n",
       "\n",
       "    .dataframe tbody tr th {\n",
       "        vertical-align: top;\n",
       "    }\n",
       "\n",
       "    .dataframe thead th {\n",
       "        text-align: right;\n",
       "    }\n",
       "</style>\n",
       "<table border=\"1\" class=\"dataframe\">\n",
       "  <thead>\n",
       "    <tr style=\"text-align: right;\">\n",
       "      <th></th>\n",
       "      <th>const</th>\n",
       "      <th>Weight</th>\n",
       "      <th>Horsepower</th>\n",
       "      <th>Displacement</th>\n",
       "    </tr>\n",
       "  </thead>\n",
       "  <tbody>\n",
       "    <tr>\n",
       "      <th>0</th>\n",
       "      <td>1.0</td>\n",
       "      <td>3504</td>\n",
       "      <td>130</td>\n",
       "      <td>307.0</td>\n",
       "    </tr>\n",
       "    <tr>\n",
       "      <th>1</th>\n",
       "      <td>1.0</td>\n",
       "      <td>3693</td>\n",
       "      <td>165</td>\n",
       "      <td>350.0</td>\n",
       "    </tr>\n",
       "    <tr>\n",
       "      <th>2</th>\n",
       "      <td>1.0</td>\n",
       "      <td>3436</td>\n",
       "      <td>150</td>\n",
       "      <td>318.0</td>\n",
       "    </tr>\n",
       "    <tr>\n",
       "      <th>3</th>\n",
       "      <td>1.0</td>\n",
       "      <td>3433</td>\n",
       "      <td>150</td>\n",
       "      <td>304.0</td>\n",
       "    </tr>\n",
       "    <tr>\n",
       "      <th>4</th>\n",
       "      <td>1.0</td>\n",
       "      <td>3449</td>\n",
       "      <td>140</td>\n",
       "      <td>302.0</td>\n",
       "    </tr>\n",
       "  </tbody>\n",
       "</table>\n",
       "</div>\n",
       "      <button class=\"colab-df-convert\" onclick=\"convertToInteractive('df-0d249698-44b7-46a9-864d-a5590860dc0f')\"\n",
       "              title=\"Convert this dataframe to an interactive table.\"\n",
       "              style=\"display:none;\">\n",
       "        \n",
       "  <svg xmlns=\"http://www.w3.org/2000/svg\" height=\"24px\"viewBox=\"0 0 24 24\"\n",
       "       width=\"24px\">\n",
       "    <path d=\"M0 0h24v24H0V0z\" fill=\"none\"/>\n",
       "    <path d=\"M18.56 5.44l.94 2.06.94-2.06 2.06-.94-2.06-.94-.94-2.06-.94 2.06-2.06.94zm-11 1L8.5 8.5l.94-2.06 2.06-.94-2.06-.94L8.5 2.5l-.94 2.06-2.06.94zm10 10l.94 2.06.94-2.06 2.06-.94-2.06-.94-.94-2.06-.94 2.06-2.06.94z\"/><path d=\"M17.41 7.96l-1.37-1.37c-.4-.4-.92-.59-1.43-.59-.52 0-1.04.2-1.43.59L10.3 9.45l-7.72 7.72c-.78.78-.78 2.05 0 2.83L4 21.41c.39.39.9.59 1.41.59.51 0 1.02-.2 1.41-.59l7.78-7.78 2.81-2.81c.8-.78.8-2.07 0-2.86zM5.41 20L4 18.59l7.72-7.72 1.47 1.35L5.41 20z\"/>\n",
       "  </svg>\n",
       "      </button>\n",
       "      \n",
       "  <style>\n",
       "    .colab-df-container {\n",
       "      display:flex;\n",
       "      flex-wrap:wrap;\n",
       "      gap: 12px;\n",
       "    }\n",
       "\n",
       "    .colab-df-convert {\n",
       "      background-color: #E8F0FE;\n",
       "      border: none;\n",
       "      border-radius: 50%;\n",
       "      cursor: pointer;\n",
       "      display: none;\n",
       "      fill: #1967D2;\n",
       "      height: 32px;\n",
       "      padding: 0 0 0 0;\n",
       "      width: 32px;\n",
       "    }\n",
       "\n",
       "    .colab-df-convert:hover {\n",
       "      background-color: #E2EBFA;\n",
       "      box-shadow: 0px 1px 2px rgba(60, 64, 67, 0.3), 0px 1px 3px 1px rgba(60, 64, 67, 0.15);\n",
       "      fill: #174EA6;\n",
       "    }\n",
       "\n",
       "    [theme=dark] .colab-df-convert {\n",
       "      background-color: #3B4455;\n",
       "      fill: #D2E3FC;\n",
       "    }\n",
       "\n",
       "    [theme=dark] .colab-df-convert:hover {\n",
       "      background-color: #434B5C;\n",
       "      box-shadow: 0px 1px 3px 1px rgba(0, 0, 0, 0.15);\n",
       "      filter: drop-shadow(0px 1px 2px rgba(0, 0, 0, 0.3));\n",
       "      fill: #FFFFFF;\n",
       "    }\n",
       "  </style>\n",
       "\n",
       "      <script>\n",
       "        const buttonEl =\n",
       "          document.querySelector('#df-0d249698-44b7-46a9-864d-a5590860dc0f button.colab-df-convert');\n",
       "        buttonEl.style.display =\n",
       "          google.colab.kernel.accessAllowed ? 'block' : 'none';\n",
       "\n",
       "        async function convertToInteractive(key) {\n",
       "          const element = document.querySelector('#df-0d249698-44b7-46a9-864d-a5590860dc0f');\n",
       "          const dataTable =\n",
       "            await google.colab.kernel.invokeFunction('convertToInteractive',\n",
       "                                                     [key], {});\n",
       "          if (!dataTable) return;\n",
       "\n",
       "          const docLinkHtml = 'Like what you see? Visit the ' +\n",
       "            '<a target=\"_blank\" href=https://colab.research.google.com/notebooks/data_table.ipynb>data table notebook</a>'\n",
       "            + ' to learn more about interactive tables.';\n",
       "          element.innerHTML = '';\n",
       "          dataTable['output_type'] = 'display_data';\n",
       "          await google.colab.output.renderOutput(dataTable, element);\n",
       "          const docLink = document.createElement('div');\n",
       "          docLink.innerHTML = docLinkHtml;\n",
       "          element.appendChild(docLink);\n",
       "        }\n",
       "      </script>\n",
       "    </div>\n",
       "  </div>\n",
       "  "
      ],
      "text/plain": [
       "   const  Weight  Horsepower  Displacement\n",
       "0    1.0    3504         130         307.0\n",
       "1    1.0    3693         165         350.0\n",
       "2    1.0    3436         150         318.0\n",
       "3    1.0    3433         150         304.0\n",
       "4    1.0    3449         140         302.0"
      ]
     },
     "execution_count": 7,
     "metadata": {},
     "output_type": "execute_result"
    }
   ],
   "source": [
    "# Getting the Value of Intercept and Adding in the DataFrame \n",
    "\n",
    "X = stm.add_constant(X)\n",
    "X.head()"
   ]
  },
  {
   "cell_type": "code",
   "execution_count": 13,
   "metadata": {
    "executionInfo": {
     "elapsed": 579,
     "status": "ok",
     "timestamp": 1654254328473,
     "user": {
      "displayName": "Srivathsan B",
      "userId": "15069704459336375084"
     },
     "user_tz": -330
    },
    "id": "oMD4_DqGNKEt"
   },
   "outputs": [],
   "source": [
    "# finding the b(curl) using matrix operations.\n",
    "B_curl = np.linalg.inv(X.transpose().dot(X)).dot(X.transpose()).dot(y)\n",
    "B_curl"
   ]
  },
  {
   "cell_type": "markdown",
   "metadata": {
    "id": "p7dkpuPLRqgs"
   },
   "source": [
    "# The values of the Intercept and slope are \n",
    "\n",
    "### Intercept = 44.49997\n",
    "### Slope_b1 = -0.005313\n",
    "### Slope_b2 = -0.039377\n",
    "### Slope_b3 = -0.007919"
   ]
  },
  {
   "cell_type": "code",
   "execution_count": 20,
   "metadata": {
    "colab": {
     "base_uri": "https://localhost:8080/"
    },
    "executionInfo": {
     "elapsed": 363,
     "status": "ok",
     "timestamp": 1654254948088,
     "user": {
      "displayName": "Srivathsan B",
      "userId": "15069704459336375084"
     },
     "user_tz": -330
    },
    "id": "pvg1Ps7bPUW4",
    "outputId": "f087d363-4379-49ff-abb5-fb4116e0380c"
   },
   "outputs": [
    {
     "data": {
      "text/plain": [
       "const           44.499978\n",
       "Weight          -0.005313\n",
       "Horsepower      -0.039377\n",
       "Displacement    -0.007919\n",
       "dtype: float64"
      ]
     },
     "execution_count": 20,
     "metadata": {},
     "output_type": "execute_result"
    }
   ],
   "source": [
    "# Cross Checking with stats model \n",
    "mod = stm.OLS(y,X).fit() # fo=itting the model \n",
    "mod.params # getting the model parameters ( Constant is the intercept)"
   ]
  },
  {
   "cell_type": "markdown",
   "metadata": {
    "id": "Z48EDGW8Vtl9"
   },
   "source": [
    "# Conclusion: \n",
    "### B(curl) Computed using the matrix operation and parameters given by OLS model are same. \n"
   ]
  },
  {
   "cell_type": "code",
   "execution_count": null,
   "metadata": {
    "id": "HDdFkNj1WS3k"
   },
   "outputs": [],
   "source": []
  }
 ],
 "metadata": {
  "colab": {
   "authorship_tag": "ABX9TyMTWvXcF9chPz008XHl2r7Y",
   "collapsed_sections": [],
   "mount_file_id": "1qMi_F6imNzehI6knvdJ72f4Jb2Zp-mIF",
   "name": "E22034  Study 2 AML.ipynb",
   "provenance": [
    {
     "file_id": "1Yxx-6CvnLCfz2ikZ798zpT83MBAi4GdC",
     "timestamp": 1654251366291
    },
    {
     "file_id": "1H4kk3pia_nOQEX4BXDVf41LErYm93yrl",
     "timestamp": 1654084378760
    },
    {
     "file_id": "1S2QTXuqBR6HSBDh_Fr0j_N0iqrAmfIAc",
     "timestamp": 1654026820347
    },
    {
     "file_id": "1uykZcDgAEXCu_nzhtWop8oJS0fMdTCFu",
     "timestamp": 1654025834915
    },
    {
     "file_id": "1qMi_F6imNzehI6knvdJ72f4Jb2Zp-mIF",
     "timestamp": 1654023611763
    }
   ]
  },
  "kernelspec": {
   "display_name": "Python 3",
   "language": "python",
   "name": "python3"
  },
  "language_info": {
   "codemirror_mode": {
    "name": "ipython",
    "version": 3
   },
   "file_extension": ".py",
   "mimetype": "text/x-python",
   "name": "python",
   "nbconvert_exporter": "python",
   "pygments_lexer": "ipython3",
   "version": "3.7.6"
  }
 },
 "nbformat": 4,
 "nbformat_minor": 1
}
