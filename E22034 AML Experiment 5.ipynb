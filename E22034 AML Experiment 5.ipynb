{
 "cells": [
  {
   "cell_type": "markdown",
   "metadata": {
    "id": "gZvsXALAnKOf"
   },
   "source": [
    "\n",
    "# Experiment 5\n",
    "### i) Create a sqeuence starting from 1 upto 100 and call that as population (P)\n",
    "### ii) Generate 1000, Random Sample (s) of Size 100, with replacements from population (P) and record the proportion of the unique numbers of values.\n",
    "### iii) Compute the average of this 1000 numbers and plot a Histogram of this 1000 values.\n"
   ]
  },
  {
   "cell_type": "code",
   "execution_count": null,
   "metadata": {
    "id": "G0cCGPm6_iMW"
   },
   "outputs": [],
   "source": [
    "# Importing the Dependencies\n",
    "import numpy as np\n",
    "import pandas as pd\n",
    "import random\n",
    "import matplotlib.pyplot as plt"
   ]
  },
  {
   "cell_type": "code",
   "execution_count": null,
   "metadata": {
    "colab": {
     "base_uri": "https://localhost:8080/"
    },
    "executionInfo": {
     "elapsed": 20,
     "status": "ok",
     "timestamp": 1654529495862,
     "user": {
      "displayName": "Srivathsan B",
      "userId": "15069704459336375084"
     },
     "user_tz": -330
    },
    "id": "YszlbtElFzdM",
    "outputId": "90067925-014a-4119-f6ba-a08f761ab96c"
   },
   "outputs": [
    {
     "name": "stdout",
     "output_type": "stream",
     "text": [
      "[  1   2   3   4   5   6   7   8   9  10  11  12  13  14  15  16  17  18\n",
      "  19  20  21  22  23  24  25  26  27  28  29  30  31  32  33  34  35  36\n",
      "  37  38  39  40  41  42  43  44  45  46  47  48  49  50  51  52  53  54\n",
      "  55  56  57  58  59  60  61  62  63  64  65  66  67  68  69  70  71  72\n",
      "  73  74  75  76  77  78  79  80  81  82  83  84  85  86  87  88  89  90\n",
      "  91  92  93  94  95  96  97  98  99 100]\n"
     ]
    }
   ],
   "source": [
    "# Create a sqeuence starting from 1 upto 100 and call that as population (P).\n",
    "P = np.arange(1,101)\n",
    "print(P)"
   ]
  },
  {
   "cell_type": "code",
   "execution_count": null,
   "metadata": {
    "colab": {
     "base_uri": "https://localhost:8080/"
    },
    "executionInfo": {
     "elapsed": 860,
     "status": "ok",
     "timestamp": 1654529972741,
     "user": {
      "displayName": "Srivathsan B",
      "userId": "15069704459336375084"
     },
     "user_tz": -330
    },
    "id": "1TFmZRyNpDa7",
    "outputId": "da0c8776-b5c7-453c-e638-19277dc37728"
   },
   "outputs": [
    {
     "name": "stdout",
     "output_type": "stream",
     "text": [
      "The propotion of Unique number of sample S is :  [0.59, 0.64, 0.63, 0.6, 0.65, 0.59, 0.63, 0.62, 0.68, 0.65, 0.66, 0.61, 0.59, 0.62, 0.63, 0.62, 0.61, 0.63, 0.59, 0.66, 0.61, 0.6, 0.62, 0.55, 0.67, 0.64, 0.62, 0.63, 0.65, 0.64, 0.64, 0.6, 0.63, 0.66, 0.64, 0.59, 0.65, 0.65, 0.62, 0.6, 0.65, 0.66, 0.64, 0.66, 0.65, 0.62, 0.66, 0.57, 0.64, 0.67, 0.64, 0.59, 0.6, 0.61, 0.58, 0.65, 0.64, 0.66, 0.65, 0.68, 0.68, 0.63, 0.63, 0.67, 0.64, 0.66, 0.55, 0.61, 0.61, 0.59, 0.63, 0.65, 0.66, 0.65, 0.64, 0.65, 0.66, 0.62, 0.7, 0.61, 0.61, 0.58, 0.61, 0.59, 0.65, 0.6, 0.65, 0.66, 0.69, 0.61, 0.61, 0.7, 0.62, 0.62, 0.66, 0.61, 0.65, 0.57, 0.58, 0.59, 0.64, 0.64, 0.6, 0.66, 0.6, 0.64, 0.61, 0.61, 0.6, 0.62, 0.65, 0.66, 0.63, 0.65, 0.64, 0.6, 0.61, 0.64, 0.64, 0.65, 0.61, 0.62, 0.69, 0.65, 0.64, 0.65, 0.59, 0.63, 0.62, 0.62, 0.62, 0.63, 0.65, 0.69, 0.67, 0.66, 0.65, 0.65, 0.65, 0.6, 0.64, 0.62, 0.63, 0.65, 0.61, 0.62, 0.62, 0.69, 0.65, 0.67, 0.61, 0.64, 0.63, 0.63, 0.65, 0.62, 0.65, 0.66, 0.6, 0.57, 0.63, 0.62, 0.65, 0.63, 0.67, 0.64, 0.65, 0.63, 0.62, 0.62, 0.63, 0.62, 0.61, 0.67, 0.65, 0.57, 0.71, 0.66, 0.7, 0.63, 0.64, 0.66, 0.65, 0.66, 0.6, 0.68, 0.69, 0.66, 0.63, 0.64, 0.6, 0.69, 0.67, 0.66, 0.63, 0.59, 0.63, 0.65, 0.64, 0.64, 0.6, 0.7, 0.6, 0.62, 0.7, 0.66, 0.61, 0.69, 0.64, 0.66, 0.67, 0.62, 0.62, 0.65, 0.64, 0.65, 0.65, 0.7, 0.64, 0.64, 0.64, 0.69, 0.67, 0.62, 0.66, 0.57, 0.6, 0.67, 0.68, 0.65, 0.7, 0.66, 0.59, 0.65, 0.61, 0.63, 0.62, 0.56, 0.68, 0.65, 0.67, 0.64, 0.67, 0.61, 0.6, 0.65, 0.6, 0.7, 0.67, 0.6, 0.67, 0.67, 0.61, 0.63, 0.61, 0.65, 0.65, 0.54, 0.65, 0.62, 0.64, 0.67, 0.61, 0.58, 0.64, 0.71, 0.58, 0.62, 0.63, 0.61, 0.63, 0.68, 0.62, 0.62, 0.68, 0.61, 0.66, 0.6, 0.61, 0.68, 0.63, 0.68, 0.65, 0.66, 0.64, 0.66, 0.57, 0.63, 0.67, 0.6, 0.64, 0.64, 0.65, 0.59, 0.64, 0.68, 0.65, 0.64, 0.64, 0.68, 0.59, 0.66, 0.65, 0.59, 0.66, 0.66, 0.66, 0.63, 0.75, 0.67, 0.62, 0.63, 0.6, 0.64, 0.65, 0.61, 0.63, 0.62, 0.66, 0.65, 0.64, 0.69, 0.64, 0.63, 0.61, 0.63, 0.65, 0.64, 0.57, 0.65, 0.6, 0.61, 0.63, 0.65, 0.65, 0.64, 0.67, 0.65, 0.62, 0.69, 0.64, 0.65, 0.63, 0.64, 0.63, 0.65, 0.57, 0.67, 0.6, 0.62, 0.68, 0.67, 0.66, 0.66, 0.57, 0.67, 0.66, 0.62, 0.58, 0.65, 0.63, 0.69, 0.64, 0.61, 0.64, 0.61, 0.6, 0.67, 0.67, 0.63, 0.65, 0.68, 0.68, 0.61, 0.6, 0.65, 0.66, 0.66, 0.65, 0.64, 0.59, 0.64, 0.61, 0.7, 0.65, 0.61, 0.59, 0.62, 0.67, 0.63, 0.66, 0.59, 0.58, 0.65, 0.59, 0.61, 0.66, 0.67, 0.66, 0.6, 0.66, 0.7, 0.6, 0.65, 0.65, 0.63, 0.62, 0.59, 0.61, 0.62, 0.59, 0.63, 0.61, 0.64, 0.63, 0.62, 0.62, 0.62, 0.62, 0.64, 0.67, 0.67, 0.63, 0.68, 0.64, 0.64, 0.59, 0.71, 0.62, 0.58, 0.57, 0.64, 0.67, 0.7, 0.63, 0.65, 0.62, 0.62, 0.66, 0.62, 0.67, 0.62, 0.57, 0.59, 0.68, 0.66, 0.63, 0.64, 0.63, 0.64, 0.65, 0.68, 0.68, 0.64, 0.64, 0.6, 0.58, 0.65, 0.67, 0.67, 0.59, 0.64, 0.6, 0.63, 0.65, 0.6, 0.61, 0.57, 0.66, 0.72, 0.61, 0.68, 0.65, 0.68, 0.65, 0.61, 0.61, 0.64, 0.61, 0.59, 0.62, 0.63, 0.66, 0.64, 0.62, 0.6, 0.58, 0.66, 0.69, 0.63, 0.63, 0.66, 0.61, 0.74, 0.62, 0.61, 0.65, 0.62, 0.62, 0.56, 0.6, 0.68, 0.63, 0.6, 0.69, 0.58, 0.61, 0.63, 0.62, 0.63, 0.65, 0.67, 0.64, 0.7, 0.6, 0.62, 0.64, 0.59, 0.55, 0.66, 0.56, 0.62, 0.61, 0.66, 0.59, 0.63, 0.66, 0.62, 0.68, 0.61, 0.6, 0.66, 0.61, 0.65, 0.63, 0.68, 0.61, 0.62, 0.66, 0.62, 0.64, 0.67, 0.59, 0.62, 0.62, 0.59, 0.67, 0.64, 0.63, 0.6, 0.73, 0.63, 0.61, 0.63, 0.58, 0.62, 0.66, 0.7, 0.63, 0.63, 0.63, 0.62, 0.63, 0.62, 0.64, 0.61, 0.58, 0.61, 0.56, 0.62, 0.59, 0.63, 0.65, 0.64, 0.71, 0.6, 0.63, 0.61, 0.64, 0.59, 0.65, 0.67, 0.62, 0.66, 0.63, 0.59, 0.59, 0.63, 0.62, 0.62, 0.69, 0.66, 0.64, 0.67, 0.61, 0.66, 0.64, 0.59, 0.6, 0.59, 0.65, 0.57, 0.61, 0.67, 0.54, 0.66, 0.58, 0.64, 0.63, 0.59, 0.69, 0.62, 0.69, 0.66, 0.67, 0.64, 0.62, 0.64, 0.68, 0.66, 0.61, 0.6, 0.68, 0.62, 0.61, 0.65, 0.62, 0.64, 0.61, 0.65, 0.57, 0.62, 0.71, 0.63, 0.63, 0.66, 0.66, 0.68, 0.67, 0.69, 0.66, 0.64, 0.67, 0.61, 0.63, 0.66, 0.66, 0.69, 0.65, 0.59, 0.65, 0.66, 0.68, 0.64, 0.63, 0.64, 0.62, 0.63, 0.63, 0.62, 0.64, 0.6, 0.68, 0.64, 0.61, 0.61, 0.65, 0.64, 0.59, 0.61, 0.63, 0.58, 0.64, 0.66, 0.63, 0.66, 0.66, 0.62, 0.62, 0.66, 0.63, 0.58, 0.62, 0.66, 0.65, 0.63, 0.61, 0.64, 0.65, 0.61, 0.65, 0.65, 0.62, 0.63, 0.66, 0.59, 0.68, 0.62, 0.71, 0.64, 0.59, 0.64, 0.69, 0.61, 0.64, 0.64, 0.65, 0.64, 0.58, 0.61, 0.66, 0.59, 0.67, 0.6, 0.67, 0.67, 0.61, 0.65, 0.65, 0.69, 0.58, 0.66, 0.66, 0.62, 0.67, 0.6, 0.64, 0.62, 0.67, 0.65, 0.67, 0.6, 0.61, 0.65, 0.59, 0.61, 0.64, 0.63, 0.65, 0.61, 0.63, 0.59, 0.58, 0.54, 0.69, 0.59, 0.64, 0.6, 0.67, 0.55, 0.64, 0.65, 0.61, 0.68, 0.63, 0.66, 0.69, 0.62, 0.61, 0.65, 0.69, 0.63, 0.72, 0.63, 0.64, 0.63, 0.62, 0.59, 0.62, 0.61, 0.66, 0.64, 0.65, 0.62, 0.65, 0.56, 0.62, 0.62, 0.61, 0.58, 0.63, 0.62, 0.63, 0.63, 0.62, 0.68, 0.67, 0.63, 0.6, 0.59, 0.64, 0.59, 0.62, 0.65, 0.63, 0.61, 0.63, 0.66, 0.67, 0.69, 0.64, 0.65, 0.61, 0.64, 0.57, 0.62, 0.6, 0.65, 0.63, 0.69, 0.65, 0.65, 0.69, 0.62, 0.59, 0.59, 0.58, 0.66, 0.67, 0.62, 0.69, 0.63, 0.63, 0.6, 0.67, 0.66, 0.69, 0.63, 0.63, 0.67, 0.62, 0.59, 0.57, 0.59, 0.62, 0.64, 0.64, 0.65, 0.62, 0.63, 0.63, 0.64, 0.65, 0.55, 0.65, 0.62, 0.63, 0.63, 0.66, 0.57, 0.66, 0.61, 0.62, 0.64, 0.67, 0.67, 0.63, 0.65, 0.62, 0.62, 0.61, 0.62, 0.62, 0.6, 0.62, 0.61, 0.63, 0.65, 0.59, 0.61, 0.65, 0.59, 0.66, 0.61, 0.64, 0.7, 0.63, 0.63, 0.62, 0.6, 0.56, 0.63, 0.61, 0.58, 0.66, 0.69, 0.59, 0.66, 0.62, 0.63, 0.59, 0.66, 0.64, 0.7, 0.63, 0.67, 0.65, 0.65, 0.68, 0.65, 0.67, 0.57, 0.63, 0.61, 0.66, 0.68, 0.63, 0.61, 0.61, 0.64, 0.64, 0.64, 0.6, 0.67, 0.64, 0.65, 0.65, 0.65, 0.64, 0.62, 0.67, 0.68, 0.64, 0.63, 0.68, 0.6, 0.6, 0.66, 0.61, 0.55, 0.7, 0.64, 0.66, 0.65, 0.62, 0.61, 0.65, 0.62, 0.6, 0.67, 0.69, 0.63, 0.64, 0.68, 0.6, 0.67, 0.65, 0.63, 0.63, 0.62, 0.64, 0.63, 0.63, 0.6, 0.62, 0.62, 0.62, 0.66, 0.58, 0.63, 0.6, 0.69, 0.69, 0.67, 0.57, 0.6, 0.62, 0.62, 0.57, 0.6, 0.63, 0.64, 0.61, 0.69, 0.64, 0.66, 0.67, 0.62, 0.67, 0.63, 0.58, 0.6, 0.63, 0.62, 0.64, 0.67, 0.62, 0.66, 0.59, 0.65, 0.66, 0.67, 0.64, 0.62, 0.6, 0.7, 0.66, 0.65, 0.61, 0.67, 0.63]\n",
      "The Average of propotion of Unique number of sample S is :  0.6343556443556444\n"
     ]
    }
   ],
   "source": [
    "# Generate 1000, Random Sample (s) of Size 100, with replacements from population (P) and record the proportion of the unique numbers of values.\n",
    "\n",
    "Hist = []\n",
    "Proportion = []\n",
    "for i in range(0,1001):\n",
    "    s = random.choices(P , k = 100)\n",
    "    s_pro = len(np.unique(s))\n",
    "    prop = s_pro/100\n",
    "    Proportion.append(prop)\n",
    "    avg = np.mean(s)\n",
    "    Hist.append(avg)\n",
    "print(\"The propotion of Unique number of sample S is : \", Proportion )\n",
    "print(\"The Average of propotion of Unique number of sample S is : \", np.sum(Proportion)/len(Proportion))\n"
   ]
  },
  {
   "cell_type": "markdown",
   "metadata": {
    "id": "VNwQ2hnMraQw"
   },
   "source": [
    "# On Average Bootstrap Sample contaings approximately 63% of original sample, the number of duplicate observations will be of 37% only."
   ]
  },
  {
   "cell_type": "code",
   "execution_count": null,
   "metadata": {
    "colab": {
     "base_uri": "https://localhost:8080/",
     "height": 295
    },
    "executionInfo": {
     "elapsed": 1112,
     "status": "ok",
     "timestamp": 1654531128013,
     "user": {
      "displayName": "Srivathsan B",
      "userId": "15069704459336375084"
     },
     "user_tz": -330
    },
    "id": "n6Lp53r4p-i-",
    "outputId": "18b2bdb8-43ef-4ebe-bc2d-af7a65d9beae"
   },
   "outputs": [
    {
     "data": {
      "image/png": "[encoded data removed]",
      "text/plain": [
       "<Figure size 432x288 with 1 Axes>"
      ]
     },
     "metadata": {
      "needs_background": "light"
     },
     "output_type": "display_data"
    }
   ],
   "source": [
    "#  Computing the average of  1000  Random Samples  and plot a Histogram of those  1000 values.\n",
    "plt.hist(Hist, density=True, bins=100)\n",
    "plt.ylabel('Frequency Distribution')\n",
    "plt.xlabel('Average of 1000 Random Sample')\n",
    "plt.title('Histogram of Average Random Sample');"
   ]
  },
  {
   "cell_type": "code",
   "execution_count": null,
   "metadata": {
    "id": "5zEDYmfGu87n"
   },
   "outputs": [],
   "source": []
  }
 ],
 "metadata": {
  "colab": {
   "authorship_tag": "ABX9TyOwsO4EBuK2PnLKRdTjZ8Zx",
   "collapsed_sections": [],
   "name": "E22034 AML Experiment 5.ipynb",
   "provenance": []
  },
  "kernelspec": {
   "display_name": "Python 3",
   "language": "python",
   "name": "python3"
  },
  "language_info": {
   "codemirror_mode": {
    "name": "ipython",
    "version": 3
   },
   "file_extension": ".py",
   "mimetype": "text/x-python",
   "name": "python",
   "nbconvert_exporter": "python",
   "pygments_lexer": "ipython3",
   "version": "3.7.6"
  }
 },
 "nbformat": 4,
 "nbformat_minor": 1
}
